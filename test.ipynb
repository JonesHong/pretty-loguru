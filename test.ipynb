{
 "cells": [
  {
   "cell_type": "code",
   "execution_count": 1,
   "metadata": {},
   "outputs": [
    {
     "name": "stdout",
     "output_type": "stream",
     "text": [
      "Collecting pretty-loguru\n",
      "  Downloading pretty_loguru-0.1.1-py3-none-any.whl.metadata (3.3 kB)\n",
      "Requirement already satisfied: loguru>=0.6.0 in c:\\users\\user\\anaconda3\\envs\\tcm-agent\\lib\\site-packages (from pretty-loguru) (0.7.3)\n",
      "Requirement already satisfied: rich>=12.0.0 in c:\\users\\user\\anaconda3\\envs\\tcm-agent\\lib\\site-packages (from pretty-loguru) (13.9.4)\n",
      "Requirement already satisfied: art>=5.0.0 in c:\\users\\user\\anaconda3\\envs\\tcm-agent\\lib\\site-packages (from pretty-loguru) (6.4)\n",
      "Requirement already satisfied: colorama>=0.3.4 in c:\\users\\user\\appdata\\roaming\\python\\python311\\site-packages (from loguru>=0.6.0->pretty-loguru) (0.4.6)\n",
      "Requirement already satisfied: win32-setctime>=1.0.0 in c:\\users\\user\\anaconda3\\envs\\tcm-agent\\lib\\site-packages (from loguru>=0.6.0->pretty-loguru) (1.1.0)\n",
      "Requirement already satisfied: markdown-it-py>=2.2.0 in c:\\users\\user\\anaconda3\\envs\\tcm-agent\\lib\\site-packages (from rich>=12.0.0->pretty-loguru) (3.0.0)\n",
      "Requirement already satisfied: pygments<3.0.0,>=2.13.0 in c:\\users\\user\\appdata\\roaming\\python\\python311\\site-packages (from rich>=12.0.0->pretty-loguru) (2.16.1)\n",
      "Requirement already satisfied: mdurl~=0.1 in c:\\users\\user\\anaconda3\\envs\\tcm-agent\\lib\\site-packages (from markdown-it-py>=2.2.0->rich>=12.0.0->pretty-loguru) (0.1.2)\n",
      "Downloading pretty_loguru-0.1.1-py3-none-any.whl (13 kB)\n",
      "Installing collected packages: pretty-loguru\n",
      "Successfully installed pretty-loguru-0.1.1\n"
     ]
    }
   ],
   "source": [
    "!pip install pretty-loguru"
   ]
  },
  {
   "cell_type": "code",
   "execution_count": 2,
   "metadata": {},
   "outputs": [
    {
     "name": "stderr",
     "output_type": "stream",
     "text": [
      "\u001b[32m2025-04-19 17:20:27\u001b[0m | \u001b[1mINFO    155208\u001b[0m | \u001b[36mmy_app\u001b[0m:\u001b[36mstart\u001b[0m:\u001b[36m138\u001b[0m - \u001b[1mLogger: Clear Log Thread Started...!!!\u001b[0m\n",
      "\u001b[32m2025-04-19 17:20:27\u001b[0m | \u001b[1mINFO    155208\u001b[0m | \u001b[36mmy_app\u001b[0m:\u001b[36m<module>\u001b[0m:\u001b[36m5\u001b[0m - \u001b[1mLogger initialized.\u001b[0m\n",
      "\u001b[32m2025-04-19 17:20:27\u001b[0m | \u001b[32m\u001b[1mSUCCESS 155208\u001b[0m | \u001b[36mmy_app\u001b[0m:\u001b[36m<module>\u001b[0m:\u001b[36m9\u001b[0m - \u001b[32m\u001b[1mOperation was successful.\u001b[0m\n",
      "\u001b[32m2025-04-19 17:20:27\u001b[0m | \u001b[33m\u001b[1mWARNING 155208\u001b[0m | \u001b[36mmy_app\u001b[0m:\u001b[36m<module>\u001b[0m:\u001b[36m10\u001b[0m - \u001b[33m\u001b[1mThis is a warning.\u001b[0m\n",
      "\u001b[32m2025-04-19 17:20:27\u001b[0m | \u001b[31m\u001b[1mERROR   155208\u001b[0m | \u001b[36mmy_app\u001b[0m:\u001b[36m<module>\u001b[0m:\u001b[36m11\u001b[0m - \u001b[31m\u001b[1mAn error occurred.\u001b[0m\n"
     ]
    }
   ],
   "source": [
    "\n",
    "from pretty_loguru import logger, logger_start\n",
    "\n",
    "# Initialize the logger (creates file handler + console handler)\n",
    "process_id = logger_start(folder=\"my_app\")\n",
    "logger.info(\"Logger initialized.\")\n",
    "\n",
    "# Basic logging\n",
    "logger.debug(\"Debug message.\")\n",
    "logger.success(\"Operation was successful.\")\n",
    "logger.warning(\"This is a warning.\")\n",
    "logger.error(\"An error occurred.\")"
   ]
  },
  {
   "cell_type": "code",
   "execution_count": 4,
   "metadata": {},
   "outputs": [
    {
     "name": "stderr",
     "output_type": "stream",
     "text": [
      "\u001b[32m2025-04-19 17:21:00\u001b[0m | \u001b[1mINFO    155208\u001b[0m | \u001b[36mlogger_test\u001b[0m:\u001b[36mstart\u001b[0m:\u001b[36m138\u001b[0m - \u001b[1mLogger: Clear Log Thread Started...!!!\u001b[0m\n",
      "\u001b[32m2025-04-19 17:21:00\u001b[0m | \u001b[1mINFO    155208\u001b[0m | \u001b[36mlogger_test\u001b[0m:\u001b[36mmain_example\u001b[0m:\u001b[36m12\u001b[0m - \u001b[1m日誌系統初始化完成，進程ID: logger_test\u001b[0m\n",
      "\u001b[32m2025-04-19 17:21:00\u001b[0m | \u001b[1mINFO    155208\u001b[0m | \u001b[36mlogger_test\u001b[0m:\u001b[36mmain_example\u001b[0m:\u001b[36m13\u001b[0m - \u001b[1m日誌系統功能測試示例\u001b[0m\n",
      "\u001b[32m2025-04-19 17:21:00\u001b[0m | \u001b[1mINFO    155208\u001b[0m | \u001b[36mlogger_test\u001b[0m:\u001b[36mtest_basic_logging\u001b[0m:\u001b[36m38\u001b[0m - \u001b[1m=== 測試基本日誌功能 ===\u001b[0m\n",
      "\u001b[32m2025-04-19 17:21:00\u001b[0m | \u001b[1mINFO    155208\u001b[0m | \u001b[36mlogger_test\u001b[0m:\u001b[36mtest_basic_logging\u001b[0m:\u001b[36m40\u001b[0m - \u001b[1m這是一條信息日誌\u001b[0m\n",
      "\u001b[32m2025-04-19 17:21:00\u001b[0m | \u001b[32m\u001b[1mSUCCESS 155208\u001b[0m | \u001b[36mlogger_test\u001b[0m:\u001b[36mtest_basic_logging\u001b[0m:\u001b[36m41\u001b[0m - \u001b[32m\u001b[1m這是一條成功日誌\u001b[0m\n",
      "\u001b[32m2025-04-19 17:21:00\u001b[0m | \u001b[33m\u001b[1mWARNING 155208\u001b[0m | \u001b[36mlogger_test\u001b[0m:\u001b[36mtest_basic_logging\u001b[0m:\u001b[36m42\u001b[0m - \u001b[33m\u001b[1m這是一條警告日誌\u001b[0m\n",
      "\u001b[32m2025-04-19 17:21:00\u001b[0m | \u001b[31m\u001b[1mERROR   155208\u001b[0m | \u001b[36mlogger_test\u001b[0m:\u001b[36mtest_basic_logging\u001b[0m:\u001b[36m43\u001b[0m - \u001b[31m\u001b[1m這是一條錯誤日誌\u001b[0m\n",
      "\u001b[32m2025-04-19 17:21:00\u001b[0m | \u001b[41m\u001b[1mCRITICAL155208\u001b[0m | \u001b[36mlogger_test\u001b[0m:\u001b[36mtest_basic_logging\u001b[0m:\u001b[36m44\u001b[0m - \u001b[41m\u001b[1m這是一條嚴重錯誤日誌\u001b[0m\n",
      "\u001b[32m2025-04-19 17:21:00\u001b[0m | \u001b[1mINFO    155208\u001b[0m | \u001b[36mlogger_test\u001b[0m:\u001b[36mtest_basic_logging\u001b[0m:\u001b[36m45\u001b[0m - \u001b[1m基本日誌測試完成\u001b[0m\n",
      "\u001b[32m2025-04-19 17:21:01\u001b[0m | \u001b[1mINFO    155208\u001b[0m | \u001b[36mlogger_test\u001b[0m:\u001b[36mtest_block_logging\u001b[0m:\u001b[36m52\u001b[0m - \u001b[1m=== 測試區塊日誌功能 ===\u001b[0m\n",
      "\u001b[32m2025-04-19 17:21:01\u001b[0m | \u001b[1mINFO    155208\u001b[0m | \u001b[36mlogger_test\u001b[0m:\u001b[36mtest_block_logging\u001b[0m:\u001b[36m54\u001b[0m - \u001b[1mCustomBlock\u001b[0m\n"
     ]
    },
    {
     "data": {
      "text/html": [
       "<pre style=\"white-space:pre;overflow-x:auto;line-height:normal;font-family:Menlo,'DejaVu Sans Mono',consolas,'Courier New',monospace\"><span style=\"color: #008000; text-decoration-color: #008000\">╭─ 系統狀態摘要 ──────────────────────────────────────────────────────────────────────────────────────────────────╮</span>\n",
       "<span style=\"color: #008000; text-decoration-color: #008000\">│</span> CPU 使用率: 45%                                                                                                 <span style=\"color: #008000; text-decoration-color: #008000\">│</span>\n",
       "<span style=\"color: #008000; text-decoration-color: #008000\">│</span> 內存使用率: 60%                                                                                                 <span style=\"color: #008000; text-decoration-color: #008000\">│</span>\n",
       "<span style=\"color: #008000; text-decoration-color: #008000\">│</span> 磁盤空間: 120GB 可用                                                                                            <span style=\"color: #008000; text-decoration-color: #008000\">│</span>\n",
       "<span style=\"color: #008000; text-decoration-color: #008000\">│</span> 網絡連接: 正常                                                                                                  <span style=\"color: #008000; text-decoration-color: #008000\">│</span>\n",
       "<span style=\"color: #008000; text-decoration-color: #008000\">│</span> 服務狀態: 全部運行中                                                                                            <span style=\"color: #008000; text-decoration-color: #008000\">│</span>\n",
       "<span style=\"color: #008000; text-decoration-color: #008000\">╰─────────────────────────────────────────────────────────────────────────────────────────────────────────────────╯</span>\n",
       "</pre>\n"
      ],
      "text/plain": [
       "\u001b[32m╭─\u001b[0m\u001b[32m 系統狀態摘要 \u001b[0m\u001b[32m─────────────────────────────────────────────────────────────────────────────────────────────────\u001b[0m\u001b[32m─╮\u001b[0m\n",
       "\u001b[32m│\u001b[0m CPU 使用率: 45%                                                                                                 \u001b[32m│\u001b[0m\n",
       "\u001b[32m│\u001b[0m 內存使用率: 60%                                                                                                 \u001b[32m│\u001b[0m\n",
       "\u001b[32m│\u001b[0m 磁盤空間: 120GB 可用                                                                                            \u001b[32m│\u001b[0m\n",
       "\u001b[32m│\u001b[0m 網絡連接: 正常                                                                                                  \u001b[32m│\u001b[0m\n",
       "\u001b[32m│\u001b[0m 服務狀態: 全部運行中                                                                                            \u001b[32m│\u001b[0m\n",
       "\u001b[32m╰─────────────────────────────────────────────────────────────────────────────────────────────────────────────────╯\u001b[0m\n"
      ]
     },
     "metadata": {},
     "output_type": "display_data"
    },
    {
     "name": "stderr",
     "output_type": "stream",
     "text": [
      "\u001b[32m2025-04-19 17:21:01\u001b[0m | \u001b[33m\u001b[1mWARNING 155208\u001b[0m | \u001b[36mlogger_test\u001b[0m:\u001b[36mtest_block_logging\u001b[0m:\u001b[36m67\u001b[0m - \u001b[33m\u001b[1mCustomBlock\u001b[0m\n"
     ]
    },
    {
     "data": {
      "text/html": [
       "<pre style=\"white-space:pre;overflow-x:auto;line-height:normal;font-family:Menlo,'DejaVu Sans Mono',consolas,'Courier New',monospace\"><span style=\"color: #808000; text-decoration-color: #808000\">╭─ 警告訊息 ──────────────────────────────────────────────────────────────────────────────────────────────────────╮</span>\n",
       "<span style=\"color: #808000; text-decoration-color: #808000\">│</span> 檢測到內存使用率增長過快                                                                                        <span style=\"color: #808000; text-decoration-color: #808000\">│</span>\n",
       "<span style=\"color: #808000; text-decoration-color: #808000\">│</span> 當前增長率: 5% / 分鐘                                                                                           <span style=\"color: #808000; text-decoration-color: #808000\">│</span>\n",
       "<span style=\"color: #808000; text-decoration-color: #808000\">│</span> 預計 30 分鐘後達到警戒線                                                                                        <span style=\"color: #808000; text-decoration-color: #808000\">│</span>\n",
       "<span style=\"color: #808000; text-decoration-color: #808000\">│</span> 建議檢查內存洩漏                                                                                                <span style=\"color: #808000; text-decoration-color: #808000\">│</span>\n",
       "<span style=\"color: #808000; text-decoration-color: #808000\">╰─────────────────────────────────────────────────────────────────────────────────────────────────────────────────╯</span>\n",
       "</pre>\n"
      ],
      "text/plain": [
       "\u001b[33m╭─\u001b[0m\u001b[33m 警告訊息 \u001b[0m\u001b[33m─────────────────────────────────────────────────────────────────────────────────────────────────────\u001b[0m\u001b[33m─╮\u001b[0m\n",
       "\u001b[33m│\u001b[0m 檢測到內存使用率增長過快                                                                                        \u001b[33m│\u001b[0m\n",
       "\u001b[33m│\u001b[0m 當前增長率: 5% / 分鐘                                                                                           \u001b[33m│\u001b[0m\n",
       "\u001b[33m│\u001b[0m 預計 30 分鐘後達到警戒線                                                                                        \u001b[33m│\u001b[0m\n",
       "\u001b[33m│\u001b[0m 建議檢查內存洩漏                                                                                                \u001b[33m│\u001b[0m\n",
       "\u001b[33m╰─────────────────────────────────────────────────────────────────────────────────────────────────────────────────╯\u001b[0m\n"
      ]
     },
     "metadata": {},
     "output_type": "display_data"
    },
    {
     "name": "stderr",
     "output_type": "stream",
     "text": [
      "\u001b[32m2025-04-19 17:21:01\u001b[0m | \u001b[1mINFO    155208\u001b[0m | \u001b[36mlogger_test\u001b[0m:\u001b[36mtest_block_logging\u001b[0m:\u001b[36m79\u001b[0m - \u001b[1m區塊日誌測試完成\u001b[0m\n",
      "\u001b[32m2025-04-19 17:21:02\u001b[0m | \u001b[1mINFO    155208\u001b[0m | \u001b[36mlogger_test\u001b[0m:\u001b[36mtest_ascii_logging\u001b[0m:\u001b[36m86\u001b[0m - \u001b[1m=== 測試 ASCII 藝術日誌功能 ===\u001b[0m\n",
      "\u001b[32m2025-04-19 17:21:02\u001b[0m | \u001b[1mINFO    155208\u001b[0m | \u001b[36mlogger_test\u001b[0m:\u001b[36mtest_ascii_logging\u001b[0m:\u001b[36m89\u001b[0m - \u001b[1m檢查文本是否只包含 ASCII 字符:\u001b[0m\n",
      "\u001b[32m2025-04-19 17:21:02\u001b[0m | \u001b[1mINFO    155208\u001b[0m | \u001b[36mlogger_test\u001b[0m:\u001b[36mtest_ascii_logging\u001b[0m:\u001b[36m100\u001b[0m - \u001b[1m'Hello World' 是否只包含 ASCII 字符: True\u001b[0m\n",
      "\u001b[32m2025-04-19 17:21:02\u001b[0m | \u001b[1mINFO    155208\u001b[0m | \u001b[36mlogger_test\u001b[0m:\u001b[36mtest_ascii_logging\u001b[0m:\u001b[36m100\u001b[0m - \u001b[1m'Hello 世界' 是否只包含 ASCII 字符: False\u001b[0m\n",
      "\u001b[32m2025-04-19 17:21:02\u001b[0m | \u001b[1mINFO    155208\u001b[0m | \u001b[36mlogger_test\u001b[0m:\u001b[36mtest_ascii_logging\u001b[0m:\u001b[36m100\u001b[0m - \u001b[1m'123-456-789' 是否只包含 ASCII 字符: True\u001b[0m\n",
      "\u001b[32m2025-04-19 17:21:02\u001b[0m | \u001b[1mINFO    155208\u001b[0m | \u001b[36mlogger_test\u001b[0m:\u001b[36mtest_ascii_logging\u001b[0m:\u001b[36m100\u001b[0m - \u001b[1m'特殊字符: ©®™' 是否只包含 ASCII 字符: False\u001b[0m\n",
      "\u001b[32m2025-04-19 17:21:02\u001b[0m | \u001b[1mINFO    155208\u001b[0m | \u001b[36mlogger_test\u001b[0m:\u001b[36mtest_ascii_logging\u001b[0m:\u001b[36m100\u001b[0m - \u001b[1m'ASCII symbols: !@#$%^&*()' 是否只包含 ASCII 字符: True\u001b[0m\n"
     ]
    },
    {
     "data": {
      "text/html": [
       "<pre style=\"white-space:pre;overflow-x:auto;line-height:normal;font-family:Menlo,'DejaVu Sans Mono',consolas,'Courier New',monospace\"><span style=\"color: #000080; text-decoration-color: #000080\">╭─────────────────────────────────────────────────────────────────────────────────────────────────────────────────╮</span>\n",
       "<span style=\"color: #000080; text-decoration-color: #000080\">│</span>  ____  __   __ ____   _____  _____  __  __   ____   _____     _     ____   _____                                <span style=\"color: #000080; text-decoration-color: #000080\">│</span>\n",
       "<span style=\"color: #000080; text-decoration-color: #000080\">│</span> / ___| \\ \\ / // ___| |_   _|| ____||  \\/  | / ___| |_   _|   / \\   |  _ \\ |_   _|                               <span style=\"color: #000080; text-decoration-color: #000080\">│</span>\n",
       "<span style=\"color: #000080; text-decoration-color: #000080\">│</span> \\___ \\  \\ V / \\___ \\   | |  |  _|  | |\\/| | \\___ \\   | |    / _ \\  | |_) |  | |                                 <span style=\"color: #000080; text-decoration-color: #000080\">│</span>\n",
       "<span style=\"color: #000080; text-decoration-color: #000080\">│</span>  ___) |  | |   ___) |  | |  | |___ | |  | |  ___) |  | |   / ___ \\ |  _ &lt;   | |                                 <span style=\"color: #000080; text-decoration-color: #000080\">│</span>\n",
       "<span style=\"color: #000080; text-decoration-color: #000080\">│</span> |____/   |_|  |____/   |_|  |_____||_|  |_| |____/   |_|  /_/   \\_\\|_| \\_\\  |_|                                 <span style=\"color: #000080; text-decoration-color: #000080\">│</span>\n",
       "<span style=\"color: #000080; text-decoration-color: #000080\">│</span>                                                                                                                 <span style=\"color: #000080; text-decoration-color: #000080\">│</span>\n",
       "<span style=\"color: #000080; text-decoration-color: #000080\">│</span>                                                                                                                 <span style=\"color: #000080; text-decoration-color: #000080\">│</span>\n",
       "<span style=\"color: #000080; text-decoration-color: #000080\">╰─────────────────────────────────────────────────────────────────────────────────────────────────────────────────╯</span>\n",
       "</pre>\n"
      ],
      "text/plain": [
       "\u001b[34m╭─────────────────────────────────────────────────────────────────────────────────────────────────────────────────╮\u001b[0m\n",
       "\u001b[34m│\u001b[0m  ____  __   __ ____   _____  _____  __  __   ____   _____     _     ____   _____                                \u001b[34m│\u001b[0m\n",
       "\u001b[34m│\u001b[0m / ___| \\ \\ / // ___| |_   _|| ____||  \\/  | / ___| |_   _|   / \\   |  _ \\ |_   _|                               \u001b[34m│\u001b[0m\n",
       "\u001b[34m│\u001b[0m \\___ \\  \\ V / \\___ \\   | |  |  _|  | |\\/| | \\___ \\   | |    / _ \\  | |_) |  | |                                 \u001b[34m│\u001b[0m\n",
       "\u001b[34m│\u001b[0m  ___) |  | |   ___) |  | |  | |___ | |  | |  ___) |  | |   / ___ \\ |  _ <   | |                                 \u001b[34m│\u001b[0m\n",
       "\u001b[34m│\u001b[0m |____/   |_|  |____/   |_|  |_____||_|  |_| |____/   |_|  /_/   \\_\\|_| \\_\\  |_|                                 \u001b[34m│\u001b[0m\n",
       "\u001b[34m│\u001b[0m                                                                                                                 \u001b[34m│\u001b[0m\n",
       "\u001b[34m│\u001b[0m                                                                                                                 \u001b[34m│\u001b[0m\n",
       "\u001b[34m╰─────────────────────────────────────────────────────────────────────────────────────────────────────────────────╯\u001b[0m\n"
      ]
     },
     "metadata": {},
     "output_type": "display_data"
    },
    {
     "data": {
      "text/html": [
       "<pre style=\"white-space:pre;overflow-x:auto;line-height:normal;font-family:Menlo,'DejaVu Sans Mono',consolas,'Courier New',monospace\"><span style=\"color: #008080; text-decoration-color: #008080\">╭─────────────────────────────────────────────────────────────────────────────────────────────────────────────────╮</span>\n",
       "<span style=\"color: #008080; text-decoration-color: #008080\">│</span>  _____                _             _                      _                   _                                <span style=\"color: #008080; text-decoration-color: #008080\">│</span>\n",
       "<span style=\"color: #008080; text-decoration-color: #008080\">│</span> |  ___|  ___   _ __  | |_  _   ___ | |_   __ _  _ __    __| |  __ _  _ __   __| |                               <span style=\"color: #008080; text-decoration-color: #008080\">│</span>\n",
       "<span style=\"color: #008080; text-decoration-color: #008080\">│</span> | |_    / _ \\ | '_ \\ | __|(_) / __|| __| / _` || '_ \\  / _` | / _` || '__| / _` |                               <span style=\"color: #008080; text-decoration-color: #008080\">│</span>\n",
       "<span style=\"color: #008080; text-decoration-color: #008080\">│</span> |  _|  | (_) || | | || |_  _  \\__ \\| |_ | (_| || | | || (_| || (_| || |   | (_| |                               <span style=\"color: #008080; text-decoration-color: #008080\">│</span>\n",
       "<span style=\"color: #008080; text-decoration-color: #008080\">│</span> |_|     \\___/ |_| |_| \\__|(_) |___/ \\__| \\__,_||_| |_| \\__,_| \\__,_||_|    \\__,_|                               <span style=\"color: #008080; text-decoration-color: #008080\">│</span>\n",
       "<span style=\"color: #008080; text-decoration-color: #008080\">│</span>                                                                                                                 <span style=\"color: #008080; text-decoration-color: #008080\">│</span>\n",
       "<span style=\"color: #008080; text-decoration-color: #008080\">│</span>                                                                                                                 <span style=\"color: #008080; text-decoration-color: #008080\">│</span>\n",
       "<span style=\"color: #008080; text-decoration-color: #008080\">╰─────────────────────────────────────────────────────────────────────────────────────────────────────────────────╯</span>\n",
       "</pre>\n"
      ],
      "text/plain": [
       "\u001b[36m╭─────────────────────────────────────────────────────────────────────────────────────────────────────────────────╮\u001b[0m\n",
       "\u001b[36m│\u001b[0m  _____                _             _                      _                   _                                \u001b[36m│\u001b[0m\n",
       "\u001b[36m│\u001b[0m |  ___|  ___   _ __  | |_  _   ___ | |_   __ _  _ __    __| |  __ _  _ __   __| |                               \u001b[36m│\u001b[0m\n",
       "\u001b[36m│\u001b[0m | |_    / _ \\ | '_ \\ | __|(_) / __|| __| / _` || '_ \\  / _` | / _` || '__| / _` |                               \u001b[36m│\u001b[0m\n",
       "\u001b[36m│\u001b[0m |  _|  | (_) || | | || |_  _  \\__ \\| |_ | (_| || | | || (_| || (_| || |   | (_| |                               \u001b[36m│\u001b[0m\n",
       "\u001b[36m│\u001b[0m |_|     \\___/ |_| |_| \\__|(_) |___/ \\__| \\__,_||_| |_| \\__,_| \\__,_||_|    \\__,_|                               \u001b[36m│\u001b[0m\n",
       "\u001b[36m│\u001b[0m                                                                                                                 \u001b[36m│\u001b[0m\n",
       "\u001b[36m│\u001b[0m                                                                                                                 \u001b[36m│\u001b[0m\n",
       "\u001b[36m╰─────────────────────────────────────────────────────────────────────────────────────────────────────────────────╯\u001b[0m\n"
      ]
     },
     "metadata": {},
     "output_type": "display_data"
    },
    {
     "data": {
      "text/html": [
       "<pre style=\"white-space:pre;overflow-x:auto;line-height:normal;font-family:Menlo,'DejaVu Sans Mono',consolas,'Courier New',monospace\"><span style=\"color: #008080; text-decoration-color: #008080\">╭─────────────────────────────────────────────────────────────────────────────────────────────────────────────────╮</span>\n",
       "<span style=\"color: #008080; text-decoration-color: #008080\">│</span>     ______                  __                         __                   __                                  <span style=\"color: #008080; text-decoration-color: #008080\">│</span>\n",
       "<span style=\"color: #008080; text-decoration-color: #008080\">│</span>    / ____/  ____    ____   / /_   _           _____   / /  ____ _   ____   / /_                                 <span style=\"color: #008080; text-decoration-color: #008080\">│</span>\n",
       "<span style=\"color: #008080; text-decoration-color: #008080\">│</span>   / /_     / __ \\  / __ \\ / __/  (_)         / ___/  / /  / __ `/  / __ \\ / __/                                 <span style=\"color: #008080; text-decoration-color: #008080\">│</span>\n",
       "<span style=\"color: #008080; text-decoration-color: #008080\">│</span>  / __/    / /_/ / / / / // /_   _           (__  )  / /  / /_/ /  / / / // /_                                   <span style=\"color: #008080; text-decoration-color: #008080\">│</span>\n",
       "<span style=\"color: #008080; text-decoration-color: #008080\">│</span> /_/       \\____/ /_/ /_/ \\__/  (_)         /____/  /_/   \\__,_/  /_/ /_/ \\__/                                   <span style=\"color: #008080; text-decoration-color: #008080\">│</span>\n",
       "<span style=\"color: #008080; text-decoration-color: #008080\">│</span>                                                                                                                 <span style=\"color: #008080; text-decoration-color: #008080\">│</span>\n",
       "<span style=\"color: #008080; text-decoration-color: #008080\">│</span>                                                                                                                 <span style=\"color: #008080; text-decoration-color: #008080\">│</span>\n",
       "<span style=\"color: #008080; text-decoration-color: #008080\">╰─────────────────────────────────────────────────────────────────────────────────────────────────────────────────╯</span>\n",
       "</pre>\n"
      ],
      "text/plain": [
       "\u001b[36m╭─────────────────────────────────────────────────────────────────────────────────────────────────────────────────╮\u001b[0m\n",
       "\u001b[36m│\u001b[0m     ______                  __                         __                   __                                  \u001b[36m│\u001b[0m\n",
       "\u001b[36m│\u001b[0m    / ____/  ____    ____   / /_   _           _____   / /  ____ _   ____   / /_                                 \u001b[36m│\u001b[0m\n",
       "\u001b[36m│\u001b[0m   / /_     / __ \\  / __ \\ / __/  (_)         / ___/  / /  / __ `/  / __ \\ / __/                                 \u001b[36m│\u001b[0m\n",
       "\u001b[36m│\u001b[0m  / __/    / /_/ / / / / // /_   _           (__  )  / /  / /_/ /  / / / // /_                                   \u001b[36m│\u001b[0m\n",
       "\u001b[36m│\u001b[0m /_/       \\____/ /_/ /_/ \\__/  (_)         /____/  /_/   \\__,_/  /_/ /_/ \\__/                                   \u001b[36m│\u001b[0m\n",
       "\u001b[36m│\u001b[0m                                                                                                                 \u001b[36m│\u001b[0m\n",
       "\u001b[36m│\u001b[0m                                                                                                                 \u001b[36m│\u001b[0m\n",
       "\u001b[36m╰─────────────────────────────────────────────────────────────────────────────────────────────────────────────────╯\u001b[0m\n"
      ]
     },
     "metadata": {},
     "output_type": "display_data"
    },
    {
     "data": {
      "text/html": [
       "<pre style=\"white-space:pre;overflow-x:auto;line-height:normal;font-family:Menlo,'DejaVu Sans Mono',consolas,'Courier New',monospace\"><span style=\"color: #008080; text-decoration-color: #008080\">╭─────────────────────────────────────────────────────────────────────────────────────────────────────────────────╮</span>\n",
       "<span style=\"color: #008080; text-decoration-color: #008080\">│</span> ______                _            _                                                                            <span style=\"color: #008080; text-decoration-color: #008080\">│</span>\n",
       "<span style=\"color: #008080; text-decoration-color: #008080\">│</span> |  ___|              | |   _      | |                                                                           <span style=\"color: #008080; text-decoration-color: #008080\">│</span>\n",
       "<span style=\"color: #008080; text-decoration-color: #008080\">│</span> | |_     ___   _ __  | |_ (_)   __| |  ___    ___   _ __ ___                                                    <span style=\"color: #008080; text-decoration-color: #008080\">│</span>\n",
       "<span style=\"color: #008080; text-decoration-color: #008080\">│</span> |  _|   / _ \\ | '_ \\ | __|     / _` | / _ \\  / _ \\ | '_ ` _ \\                                                   <span style=\"color: #008080; text-decoration-color: #008080\">│</span>\n",
       "<span style=\"color: #008080; text-decoration-color: #008080\">│</span> | |    | (_) || | | || |_  _  | (_| || (_) || (_) || | | | | |                                                  <span style=\"color: #008080; text-decoration-color: #008080\">│</span>\n",
       "<span style=\"color: #008080; text-decoration-color: #008080\">│</span> \\_|     \\___/ |_| |_| \\__|(_)  \\__,_| \\___/  \\___/ |_| |_| |_|                                                  <span style=\"color: #008080; text-decoration-color: #008080\">│</span>\n",
       "<span style=\"color: #008080; text-decoration-color: #008080\">│</span>                                                                                                                 <span style=\"color: #008080; text-decoration-color: #008080\">│</span>\n",
       "<span style=\"color: #008080; text-decoration-color: #008080\">│</span>                                                                                                                 <span style=\"color: #008080; text-decoration-color: #008080\">│</span>\n",
       "<span style=\"color: #008080; text-decoration-color: #008080\">│</span>                                                                                                                 <span style=\"color: #008080; text-decoration-color: #008080\">│</span>\n",
       "<span style=\"color: #008080; text-decoration-color: #008080\">╰─────────────────────────────────────────────────────────────────────────────────────────────────────────────────╯</span>\n",
       "</pre>\n"
      ],
      "text/plain": [
       "\u001b[36m╭─────────────────────────────────────────────────────────────────────────────────────────────────────────────────╮\u001b[0m\n",
       "\u001b[36m│\u001b[0m ______                _            _                                                                            \u001b[36m│\u001b[0m\n",
       "\u001b[36m│\u001b[0m |  ___|              | |   _      | |                                                                           \u001b[36m│\u001b[0m\n",
       "\u001b[36m│\u001b[0m | |_     ___   _ __  | |_ (_)   __| |  ___    ___   _ __ ___                                                    \u001b[36m│\u001b[0m\n",
       "\u001b[36m│\u001b[0m |  _|   / _ \\ | '_ \\ | __|     / _` | / _ \\  / _ \\ | '_ ` _ \\                                                   \u001b[36m│\u001b[0m\n",
       "\u001b[36m│\u001b[0m | |    | (_) || | | || |_  _  | (_| || (_) || (_) || | | | | |                                                  \u001b[36m│\u001b[0m\n",
       "\u001b[36m│\u001b[0m \\_|     \\___/ |_| |_| \\__|(_)  \\__,_| \\___/  \\___/ |_| |_| |_|                                                  \u001b[36m│\u001b[0m\n",
       "\u001b[36m│\u001b[0m                                                                                                                 \u001b[36m│\u001b[0m\n",
       "\u001b[36m│\u001b[0m                                                                                                                 \u001b[36m│\u001b[0m\n",
       "\u001b[36m│\u001b[0m                                                                                                                 \u001b[36m│\u001b[0m\n",
       "\u001b[36m╰─────────────────────────────────────────────────────────────────────────────────────────────────────────────────╯\u001b[0m\n"
      ]
     },
     "metadata": {},
     "output_type": "display_data"
    },
    {
     "data": {
      "text/html": [
       "<pre style=\"white-space:pre;overflow-x:auto;line-height:normal;font-family:Menlo,'DejaVu Sans Mono',consolas,'Courier New',monospace\"><span style=\"color: #008080; text-decoration-color: #008080\">╭─────────────────────────────────────────────────────────────────────────────────────────────────────────────────╮</span>\n",
       "<span style=\"color: #008080; text-decoration-color: #008080\">│</span>  ___             _    _                    _  _                                                                 <span style=\"color: #008080; text-decoration-color: #008080\">│</span>\n",
       "<span style=\"color: #008080; text-decoration-color: #008080\">│</span> | __| ___  _ _  | |_ (_)  ___ _ __   __ _ | || |                                                                <span style=\"color: #008080; text-decoration-color: #008080\">│</span>\n",
       "<span style=\"color: #008080; text-decoration-color: #008080\">│</span> | _| / _ \\| ' \\ |  _| _  (_-&lt;| '  \\ / _` || || |                                                                <span style=\"color: #008080; text-decoration-color: #008080\">│</span>\n",
       "<span style=\"color: #008080; text-decoration-color: #008080\">│</span> |_|  \\___/|_||_| \\__|(_) /__/|_|_|_|\\__,_||_||_|                                                                <span style=\"color: #008080; text-decoration-color: #008080\">│</span>\n",
       "<span style=\"color: #008080; text-decoration-color: #008080\">│</span>                                                                                                                 <span style=\"color: #008080; text-decoration-color: #008080\">│</span>\n",
       "<span style=\"color: #008080; text-decoration-color: #008080\">│</span>                                                                                                                 <span style=\"color: #008080; text-decoration-color: #008080\">│</span>\n",
       "<span style=\"color: #008080; text-decoration-color: #008080\">╰─────────────────────────────────────────────────────────────────────────────────────────────────────────────────╯</span>\n",
       "</pre>\n"
      ],
      "text/plain": [
       "\u001b[36m╭─────────────────────────────────────────────────────────────────────────────────────────────────────────────────╮\u001b[0m\n",
       "\u001b[36m│\u001b[0m  ___             _    _                    _  _                                                                 \u001b[36m│\u001b[0m\n",
       "\u001b[36m│\u001b[0m | __| ___  _ _  | |_ (_)  ___ _ __   __ _ | || |                                                                \u001b[36m│\u001b[0m\n",
       "\u001b[36m│\u001b[0m | _| / _ \\| ' \\ |  _| _  (_-<| '  \\ / _` || || |                                                                \u001b[36m│\u001b[0m\n",
       "\u001b[36m│\u001b[0m |_|  \\___/|_||_| \\__|(_) /__/|_|_|_|\\__,_||_||_|                                                                \u001b[36m│\u001b[0m\n",
       "\u001b[36m│\u001b[0m                                                                                                                 \u001b[36m│\u001b[0m\n",
       "\u001b[36m│\u001b[0m                                                                                                                 \u001b[36m│\u001b[0m\n",
       "\u001b[36m╰─────────────────────────────────────────────────────────────────────────────────────────────────────────────────╯\u001b[0m\n"
      ]
     },
     "metadata": {},
     "output_type": "display_data"
    },
    {
     "data": {
      "text/html": [
       "<pre style=\"white-space:pre;overflow-x:auto;line-height:normal;font-family:Menlo,'DejaVu Sans Mono',consolas,'Courier New',monospace\"><span style=\"color: #008080; text-decoration-color: #008080\">╭─────────────────────────────────────────────────────────────────────────────────────────────────────────────────╮</span>\n",
       "<span style=\"color: #008080; text-decoration-color: #008080\">│</span>                                                                                                                 <span style=\"color: #008080; text-decoration-color: #008080\">│</span>\n",
       "<span style=\"color: #008080; text-decoration-color: #008080\">│</span>  .----------------.  .----------------.  .-----------------. .----------------.  .----------------.             <span style=\"color: #008080; text-decoration-color: #008080\">│</span>\n",
       "<span style=\"color: #008080; text-decoration-color: #008080\">│</span> .----------------.  .----------------.  .----------------.  .----------------.  .----------------.              <span style=\"color: #008080; text-decoration-color: #008080\">│</span>\n",
       "<span style=\"color: #008080; text-decoration-color: #008080\">│</span> | .--------------. || .--------------. || .--------------. || .--------------. || .--------------. |            <span style=\"color: #008080; text-decoration-color: #008080\">│</span>\n",
       "<span style=\"color: #008080; text-decoration-color: #008080\">│</span> | .--------------. || .--------------. || .--------------. || .--------------. || .--------------. |            <span style=\"color: #008080; text-decoration-color: #008080\">│</span>\n",
       "<span style=\"color: #008080; text-decoration-color: #008080\">│</span> | |  _________   | || |     ____     | || | ____  _____  | || |  _________   | || |              | |            <span style=\"color: #008080; text-decoration-color: #008080\">│</span>\n",
       "<span style=\"color: #008080; text-decoration-color: #008080\">│</span> | |   ______     | || |   _____      | || |     ____     | || |     ______   | || |  ___  ____   | |            <span style=\"color: #008080; text-decoration-color: #008080\">│</span>\n",
       "<span style=\"color: #008080; text-decoration-color: #008080\">│</span> | | |_   ___  |  | || |   .'    `.   | || ||_   \\|_   _| | || | |  _   _  |  | || |      _       | |            <span style=\"color: #008080; text-decoration-color: #008080\">│</span>\n",
       "<span style=\"color: #008080; text-decoration-color: #008080\">│</span> | |  |_   _ \\    | || |  |_   _|     | || |   .'    `.   | || |   .' ___  |  | || | |_  ||_  _|  | |            <span style=\"color: #008080; text-decoration-color: #008080\">│</span>\n",
       "<span style=\"color: #008080; text-decoration-color: #008080\">│</span> | |   | |_  \\_|  | || |  /  .--.  \\  | || |  |   \\ | |   | || | |_/ | | \\_|  | || |     (_)      | |            <span style=\"color: #008080; text-decoration-color: #008080\">│</span>\n",
       "<span style=\"color: #008080; text-decoration-color: #008080\">│</span> | |    | |_) |   | || |    | |       | || |  /  .--.  \\  | || |  / .'   \\_|  | || |   | |_/ /    | |            <span style=\"color: #008080; text-decoration-color: #008080\">│</span>\n",
       "<span style=\"color: #008080; text-decoration-color: #008080\">│</span> | |   |  _|      | || |  | |    | |  | || |  | |\\ \\| |   | || |     | |      | || |      _       | |            <span style=\"color: #008080; text-decoration-color: #008080\">│</span>\n",
       "<span style=\"color: #008080; text-decoration-color: #008080\">│</span> | |    |  __'.   | || |    | |   _   | || |  | |    | |  | || |  | |         | || |   |  __'.    | |            <span style=\"color: #008080; text-decoration-color: #008080\">│</span>\n",
       "<span style=\"color: #008080; text-decoration-color: #008080\">│</span> | |  _| |_       | || |  \\  `--'  /  | || | _| |_\\   |_  | || |    _| |_     | || |     (_)      | |            <span style=\"color: #008080; text-decoration-color: #008080\">│</span>\n",
       "<span style=\"color: #008080; text-decoration-color: #008080\">│</span> | |   _| |__) |  | || |   _| |__/ |  | || |  \\  `--'  /  | || |  \\ `.___.'\\  | || |  _| |  \\ \\_  | |            <span style=\"color: #008080; text-decoration-color: #008080\">│</span>\n",
       "<span style=\"color: #008080; text-decoration-color: #008080\">│</span> | | |_____|      | || |   `.____.'   | || ||_____|\\____| | || |   |_____|    | || |              | |            <span style=\"color: #008080; text-decoration-color: #008080\">│</span>\n",
       "<span style=\"color: #008080; text-decoration-color: #008080\">│</span> | |  |_______/   | || |  |________|  | || |   `.____.'   | || |   `._____.'  | || | |____||____| | |            <span style=\"color: #008080; text-decoration-color: #008080\">│</span>\n",
       "<span style=\"color: #008080; text-decoration-color: #008080\">│</span> | |              | || |              | || |              | || |              | || |              | |            <span style=\"color: #008080; text-decoration-color: #008080\">│</span>\n",
       "<span style=\"color: #008080; text-decoration-color: #008080\">│</span> | |              | || |              | || |              | || |              | || |              | |            <span style=\"color: #008080; text-decoration-color: #008080\">│</span>\n",
       "<span style=\"color: #008080; text-decoration-color: #008080\">│</span> | '--------------' || '--------------' || '--------------' || '--------------' || '--------------' |            <span style=\"color: #008080; text-decoration-color: #008080\">│</span>\n",
       "<span style=\"color: #008080; text-decoration-color: #008080\">│</span> | '--------------' || '--------------' || '--------------' || '--------------' || '--------------' |            <span style=\"color: #008080; text-decoration-color: #008080\">│</span>\n",
       "<span style=\"color: #008080; text-decoration-color: #008080\">│</span>  '----------------'  '----------------'  '----------------'  '----------------'  '----------------'             <span style=\"color: #008080; text-decoration-color: #008080\">│</span>\n",
       "<span style=\"color: #008080; text-decoration-color: #008080\">│</span> '----------------'  '----------------'  '----------------'  '----------------'  '----------------'              <span style=\"color: #008080; text-decoration-color: #008080\">│</span>\n",
       "<span style=\"color: #008080; text-decoration-color: #008080\">│</span>                                                                                                                 <span style=\"color: #008080; text-decoration-color: #008080\">│</span>\n",
       "<span style=\"color: #008080; text-decoration-color: #008080\">╰─────────────────────────────────────────────────────────────────────────────────────────────────────────────────╯</span>\n",
       "</pre>\n"
      ],
      "text/plain": [
       "\u001b[36m╭─────────────────────────────────────────────────────────────────────────────────────────────────────────────────╮\u001b[0m\n",
       "\u001b[36m│\u001b[0m                                                                                                                 \u001b[36m│\u001b[0m\n",
       "\u001b[36m│\u001b[0m  .----------------.  .----------------.  .-----------------. .----------------.  .----------------.             \u001b[36m│\u001b[0m\n",
       "\u001b[36m│\u001b[0m .----------------.  .----------------.  .----------------.  .----------------.  .----------------.              \u001b[36m│\u001b[0m\n",
       "\u001b[36m│\u001b[0m | .--------------. || .--------------. || .--------------. || .--------------. || .--------------. |            \u001b[36m│\u001b[0m\n",
       "\u001b[36m│\u001b[0m | .--------------. || .--------------. || .--------------. || .--------------. || .--------------. |            \u001b[36m│\u001b[0m\n",
       "\u001b[36m│\u001b[0m | |  _________   | || |     ____     | || | ____  _____  | || |  _________   | || |              | |            \u001b[36m│\u001b[0m\n",
       "\u001b[36m│\u001b[0m | |   ______     | || |   _____      | || |     ____     | || |     ______   | || |  ___  ____   | |            \u001b[36m│\u001b[0m\n",
       "\u001b[36m│\u001b[0m | | |_   ___  |  | || |   .'    `.   | || ||_   \\|_   _| | || | |  _   _  |  | || |      _       | |            \u001b[36m│\u001b[0m\n",
       "\u001b[36m│\u001b[0m | |  |_   _ \\    | || |  |_   _|     | || |   .'    `.   | || |   .' ___  |  | || | |_  ||_  _|  | |            \u001b[36m│\u001b[0m\n",
       "\u001b[36m│\u001b[0m | |   | |_  \\_|  | || |  /  .--.  \\  | || |  |   \\ | |   | || | |_/ | | \\_|  | || |     (_)      | |            \u001b[36m│\u001b[0m\n",
       "\u001b[36m│\u001b[0m | |    | |_) |   | || |    | |       | || |  /  .--.  \\  | || |  / .'   \\_|  | || |   | |_/ /    | |            \u001b[36m│\u001b[0m\n",
       "\u001b[36m│\u001b[0m | |   |  _|      | || |  | |    | |  | || |  | |\\ \\| |   | || |     | |      | || |      _       | |            \u001b[36m│\u001b[0m\n",
       "\u001b[36m│\u001b[0m | |    |  __'.   | || |    | |   _   | || |  | |    | |  | || |  | |         | || |   |  __'.    | |            \u001b[36m│\u001b[0m\n",
       "\u001b[36m│\u001b[0m | |  _| |_       | || |  \\  `--'  /  | || | _| |_\\   |_  | || |    _| |_     | || |     (_)      | |            \u001b[36m│\u001b[0m\n",
       "\u001b[36m│\u001b[0m | |   _| |__) |  | || |   _| |__/ |  | || |  \\  `--'  /  | || |  \\ `.___.'\\  | || |  _| |  \\ \\_  | |            \u001b[36m│\u001b[0m\n",
       "\u001b[36m│\u001b[0m | | |_____|      | || |   `.____.'   | || ||_____|\\____| | || |   |_____|    | || |              | |            \u001b[36m│\u001b[0m\n",
       "\u001b[36m│\u001b[0m | |  |_______/   | || |  |________|  | || |   `.____.'   | || |   `._____.'  | || | |____||____| | |            \u001b[36m│\u001b[0m\n",
       "\u001b[36m│\u001b[0m | |              | || |              | || |              | || |              | || |              | |            \u001b[36m│\u001b[0m\n",
       "\u001b[36m│\u001b[0m | |              | || |              | || |              | || |              | || |              | |            \u001b[36m│\u001b[0m\n",
       "\u001b[36m│\u001b[0m | '--------------' || '--------------' || '--------------' || '--------------' || '--------------' |            \u001b[36m│\u001b[0m\n",
       "\u001b[36m│\u001b[0m | '--------------' || '--------------' || '--------------' || '--------------' || '--------------' |            \u001b[36m│\u001b[0m\n",
       "\u001b[36m│\u001b[0m  '----------------'  '----------------'  '----------------'  '----------------'  '----------------'             \u001b[36m│\u001b[0m\n",
       "\u001b[36m│\u001b[0m '----------------'  '----------------'  '----------------'  '----------------'  '----------------'              \u001b[36m│\u001b[0m\n",
       "\u001b[36m│\u001b[0m                                                                                                                 \u001b[36m│\u001b[0m\n",
       "\u001b[36m╰─────────────────────────────────────────────────────────────────────────────────────────────────────────────────╯\u001b[0m\n"
      ]
     },
     "metadata": {},
     "output_type": "display_data"
    },
    {
     "name": "stderr",
     "output_type": "stream",
     "text": [
      "\u001b[32m2025-04-19 17:21:02\u001b[0m | \u001b[33m\u001b[1mWARNING 155208\u001b[0m | \u001b[36mlogger_test\u001b[0m:\u001b[36mprint_ascii_header\u001b[0m:\u001b[36m52\u001b[0m - \u001b[33m\u001b[1mASCII art only supports ASCII characters. Text 'ASCII與中文混合' contains non-ASCII characters.\u001b[0m\n",
      "\u001b[32m2025-04-19 17:21:02\u001b[0m | \u001b[33m\u001b[1mWARNING 155208\u001b[0m | \u001b[36mlogger_test\u001b[0m:\u001b[36mprint_ascii_header\u001b[0m:\u001b[36m54\u001b[0m - \u001b[33m\u001b[1mNon-ASCII characters removed. Using: 'ASCII'\u001b[0m\n"
     ]
    },
    {
     "data": {
      "text/html": [
       "<pre style=\"white-space:pre;overflow-x:auto;line-height:normal;font-family:Menlo,'DejaVu Sans Mono',consolas,'Courier New',monospace\"><span style=\"color: #800080; text-decoration-color: #800080\">╭─────────────────────────────────────────────────────────────────────────────────────────────────────────────────╮</span>\n",
       "<span style=\"color: #800080; text-decoration-color: #800080\">│</span>     _     ____    ____  ___  ___                                                                                <span style=\"color: #800080; text-decoration-color: #800080\">│</span>\n",
       "<span style=\"color: #800080; text-decoration-color: #800080\">│</span>    / \\   / ___|  / ___||_ _||_ _|                                                                               <span style=\"color: #800080; text-decoration-color: #800080\">│</span>\n",
       "<span style=\"color: #800080; text-decoration-color: #800080\">│</span>   / _ \\  \\___ \\ | |     | |  | |                                                                                <span style=\"color: #800080; text-decoration-color: #800080\">│</span>\n",
       "<span style=\"color: #800080; text-decoration-color: #800080\">│</span>  / ___ \\  ___) || |___  | |  | |                                                                                <span style=\"color: #800080; text-decoration-color: #800080\">│</span>\n",
       "<span style=\"color: #800080; text-decoration-color: #800080\">│</span> /_/   \\_\\|____/  \\____||___||___|                                                                               <span style=\"color: #800080; text-decoration-color: #800080\">│</span>\n",
       "<span style=\"color: #800080; text-decoration-color: #800080\">│</span>                                                                                                                 <span style=\"color: #800080; text-decoration-color: #800080\">│</span>\n",
       "<span style=\"color: #800080; text-decoration-color: #800080\">│</span>                                                                                                                 <span style=\"color: #800080; text-decoration-color: #800080\">│</span>\n",
       "<span style=\"color: #800080; text-decoration-color: #800080\">╰─────────────────────────────────────────────────────────────────────────────────────────────────────────────────╯</span>\n",
       "</pre>\n"
      ],
      "text/plain": [
       "\u001b[35m╭─────────────────────────────────────────────────────────────────────────────────────────────────────────────────╮\u001b[0m\n",
       "\u001b[35m│\u001b[0m     _     ____    ____  ___  ___                                                                                \u001b[35m│\u001b[0m\n",
       "\u001b[35m│\u001b[0m    / \\   / ___|  / ___||_ _||_ _|                                                                               \u001b[35m│\u001b[0m\n",
       "\u001b[35m│\u001b[0m   / _ \\  \\___ \\ | |     | |  | |                                                                                \u001b[35m│\u001b[0m\n",
       "\u001b[35m│\u001b[0m  / ___ \\  ___) || |___  | |  | |                                                                                \u001b[35m│\u001b[0m\n",
       "\u001b[35m│\u001b[0m /_/   \\_\\|____/  \\____||___||___|                                                                               \u001b[35m│\u001b[0m\n",
       "\u001b[35m│\u001b[0m                                                                                                                 \u001b[35m│\u001b[0m\n",
       "\u001b[35m│\u001b[0m                                                                                                                 \u001b[35m│\u001b[0m\n",
       "\u001b[35m╰─────────────────────────────────────────────────────────────────────────────────────────────────────────────────╯\u001b[0m\n"
      ]
     },
     "metadata": {},
     "output_type": "display_data"
    },
    {
     "name": "stderr",
     "output_type": "stream",
     "text": [
      "\u001b[32m2025-04-19 17:21:02\u001b[0m | \u001b[32m\u001b[1mSUCCESS 155208\u001b[0m | \u001b[36mlogger_test\u001b[0m:\u001b[36mprint_ascii_block\u001b[0m:\u001b[36m126\u001b[0m - \u001b[32m\u001b[1mCustomBlock\u001b[0m\n"
     ]
    },
    {
     "data": {
      "text/html": [
       "<pre style=\"white-space:pre;overflow-x:auto;line-height:normal;font-family:Menlo,'DejaVu Sans Mono',consolas,'Courier New',monospace\"><span style=\"color: #008000; text-decoration-color: #008000\">╭─ 系統診斷報告 ──────────────────────────────────────────────────────────────────────────────────────────────────╮</span>\n",
       "<span style=\"color: #008000; text-decoration-color: #008000\">│</span>  ___ __   __ ___  _____  ___  __  __    ___   _  __                                                             <span style=\"color: #008000; text-decoration-color: #008000\">│</span>\n",
       "<span style=\"color: #008000; text-decoration-color: #008000\">│</span> / __|\\ \\ / // __||_   _|| __||  \\/  |  / _ \\ | |/ /                                                             <span style=\"color: #008000; text-decoration-color: #008000\">│</span>\n",
       "<span style=\"color: #008000; text-decoration-color: #008000\">│</span> \\__ \\ \\ V / \\__ \\  | |  | _| | |\\/| | | (_) || ' &lt;                                                              <span style=\"color: #008000; text-decoration-color: #008000\">│</span>\n",
       "<span style=\"color: #008000; text-decoration-color: #008000\">│</span> |___/  |_|  |___/  |_|  |___||_|  |_|  \\___/ |_|\\_\\                                                             <span style=\"color: #008000; text-decoration-color: #008000\">│</span>\n",
       "<span style=\"color: #008000; text-decoration-color: #008000\">│</span>                                                                                                                 <span style=\"color: #008000; text-decoration-color: #008000\">│</span>\n",
       "<span style=\"color: #008000; text-decoration-color: #008000\">│</span>                                                                                                                 <span style=\"color: #008000; text-decoration-color: #008000\">│</span>\n",
       "<span style=\"color: #008000; text-decoration-color: #008000\">│</span> 檢查時間: 2025-04-19 17:21:02                                                                                   <span style=\"color: #008000; text-decoration-color: #008000\">│</span>\n",
       "<span style=\"color: #008000; text-decoration-color: #008000\">│</span> 系統負載: 正常                                                                                                  <span style=\"color: #008000; text-decoration-color: #008000\">│</span>\n",
       "<span style=\"color: #008000; text-decoration-color: #008000\">│</span> 安全狀態: 良好                                                                                                  <span style=\"color: #008000; text-decoration-color: #008000\">│</span>\n",
       "<span style=\"color: #008000; text-decoration-color: #008000\">│</span> 最近錯誤數量: 0                                                                                                 <span style=\"color: #008000; text-decoration-color: #008000\">│</span>\n",
       "<span style=\"color: #008000; text-decoration-color: #008000\">│</span> 運行時間: 24小時12分鐘                                                                                          <span style=\"color: #008000; text-decoration-color: #008000\">│</span>\n",
       "<span style=\"color: #008000; text-decoration-color: #008000\">╰─────────────────────────────────────────────────────────────────────────────────────────────────────────────────╯</span>\n",
       "</pre>\n"
      ],
      "text/plain": [
       "\u001b[32m╭─\u001b[0m\u001b[32m 系統診斷報告 \u001b[0m\u001b[32m─────────────────────────────────────────────────────────────────────────────────────────────────\u001b[0m\u001b[32m─╮\u001b[0m\n",
       "\u001b[32m│\u001b[0m  ___ __   __ ___  _____  ___  __  __    ___   _  __                                                             \u001b[32m│\u001b[0m\n",
       "\u001b[32m│\u001b[0m / __|\\ \\ / // __||_   _|| __||  \\/  |  / _ \\ | |/ /                                                             \u001b[32m│\u001b[0m\n",
       "\u001b[32m│\u001b[0m \\__ \\ \\ V / \\__ \\  | |  | _| | |\\/| | | (_) || ' <                                                              \u001b[32m│\u001b[0m\n",
       "\u001b[32m│\u001b[0m |___/  |_|  |___/  |_|  |___||_|  |_|  \\___/ |_|\\_\\                                                             \u001b[32m│\u001b[0m\n",
       "\u001b[32m│\u001b[0m                                                                                                                 \u001b[32m│\u001b[0m\n",
       "\u001b[32m│\u001b[0m                                                                                                                 \u001b[32m│\u001b[0m\n",
       "\u001b[32m│\u001b[0m 檢查時間: 2025-04-19 17:21:02                                                                                   \u001b[32m│\u001b[0m\n",
       "\u001b[32m│\u001b[0m 系統負載: 正常                                                                                                  \u001b[32m│\u001b[0m\n",
       "\u001b[32m│\u001b[0m 安全狀態: 良好                                                                                                  \u001b[32m│\u001b[0m\n",
       "\u001b[32m│\u001b[0m 最近錯誤數量: 0                                                                                                 \u001b[32m│\u001b[0m\n",
       "\u001b[32m│\u001b[0m 運行時間: 24小時12分鐘                                                                                          \u001b[32m│\u001b[0m\n",
       "\u001b[32m╰─────────────────────────────────────────────────────────────────────────────────────────────────────────────────╯\u001b[0m\n"
      ]
     },
     "metadata": {},
     "output_type": "display_data"
    },
    {
     "name": "stderr",
     "output_type": "stream",
     "text": [
      "\u001b[32m2025-04-19 17:21:02\u001b[0m | \u001b[1mINFO    155208\u001b[0m | \u001b[36mlogger_test\u001b[0m:\u001b[36mtest_ascii_logging\u001b[0m:\u001b[36m150\u001b[0m - \u001b[1mASCII 藝術日誌測試完成\u001b[0m\n",
      "\u001b[32m2025-04-19 17:21:03\u001b[0m | \u001b[1mINFO    155208\u001b[0m | \u001b[36mlogger_test\u001b[0m:\u001b[36mtest_mock_application\u001b[0m:\u001b[36m157\u001b[0m - \u001b[1m=== 模擬實際應用場景 ===\u001b[0m\n"
     ]
    },
    {
     "data": {
      "text/html": [
       "<pre style=\"white-space:pre;overflow-x:auto;line-height:normal;font-family:Menlo,'DejaVu Sans Mono',consolas,'Courier New',monospace\"><span style=\"color: #000080; text-decoration-color: #000080\">╭─────────────────────────────────────────────────────────────────────────────────────────────────────────────────╮</span>\n",
       "<span style=\"color: #000080; text-decoration-color: #000080\">│</span>     ___     ____     ____           _____  ______    ___     ____   ______   __  __    ____                     <span style=\"color: #000080; text-decoration-color: #000080\">│</span>\n",
       "<span style=\"color: #000080; text-decoration-color: #000080\">│</span>    /   |   / __ \\   / __ \\         / ___/ /_  __/   /   |   / __ \\ /_  __/  / / / /   / __ \\                    <span style=\"color: #000080; text-decoration-color: #000080\">│</span>\n",
       "<span style=\"color: #000080; text-decoration-color: #000080\">│</span>   / /| |  / /_/ /  / /_/ /         \\__ \\   / /     / /| |  / /_/ /  / /    / / / /   / /_/ /                    <span style=\"color: #000080; text-decoration-color: #000080\">│</span>\n",
       "<span style=\"color: #000080; text-decoration-color: #000080\">│</span>  / ___ | / ____/  / ____/         ___/ /  / /     / ___ | / _, _/  / /    / /_/ /   / ____/                     <span style=\"color: #000080; text-decoration-color: #000080\">│</span>\n",
       "<span style=\"color: #000080; text-decoration-color: #000080\">│</span> /_/  |_|/_/      /_/             /____/  /_/     /_/  |_|/_/ |_|  /_/     \\____/   /_/                          <span style=\"color: #000080; text-decoration-color: #000080\">│</span>\n",
       "<span style=\"color: #000080; text-decoration-color: #000080\">│</span>                                                                                                                 <span style=\"color: #000080; text-decoration-color: #000080\">│</span>\n",
       "<span style=\"color: #000080; text-decoration-color: #000080\">│</span>                                                                                                                 <span style=\"color: #000080; text-decoration-color: #000080\">│</span>\n",
       "<span style=\"color: #000080; text-decoration-color: #000080\">╰─────────────────────────────────────────────────────────────────────────────────────────────────────────────────╯</span>\n",
       "</pre>\n"
      ],
      "text/plain": [
       "\u001b[34m╭─────────────────────────────────────────────────────────────────────────────────────────────────────────────────╮\u001b[0m\n",
       "\u001b[34m│\u001b[0m     ___     ____     ____           _____  ______    ___     ____   ______   __  __    ____                     \u001b[34m│\u001b[0m\n",
       "\u001b[34m│\u001b[0m    /   |   / __ \\   / __ \\         / ___/ /_  __/   /   |   / __ \\ /_  __/  / / / /   / __ \\                    \u001b[34m│\u001b[0m\n",
       "\u001b[34m│\u001b[0m   / /| |  / /_/ /  / /_/ /         \\__ \\   / /     / /| |  / /_/ /  / /    / / / /   / /_/ /                    \u001b[34m│\u001b[0m\n",
       "\u001b[34m│\u001b[0m  / ___ | / ____/  / ____/         ___/ /  / /     / ___ | / _, _/  / /    / /_/ /   / ____/                     \u001b[34m│\u001b[0m\n",
       "\u001b[34m│\u001b[0m /_/  |_|/_/      /_/             /____/  /_/     /_/  |_|/_/ |_|  /_/     \\____/   /_/                          \u001b[34m│\u001b[0m\n",
       "\u001b[34m│\u001b[0m                                                                                                                 \u001b[34m│\u001b[0m\n",
       "\u001b[34m│\u001b[0m                                                                                                                 \u001b[34m│\u001b[0m\n",
       "\u001b[34m╰─────────────────────────────────────────────────────────────────────────────────────────────────────────────────╯\u001b[0m\n"
      ]
     },
     "metadata": {},
     "output_type": "display_data"
    },
    {
     "name": "stderr",
     "output_type": "stream",
     "text": [
      "\u001b[32m2025-04-19 17:21:03\u001b[0m | \u001b[1mINFO    155208\u001b[0m | \u001b[36mlogger_test\u001b[0m:\u001b[36mtest_mock_application\u001b[0m:\u001b[36m167\u001b[0m - \u001b[1m正在加載配置...\u001b[0m\n",
      "\u001b[32m2025-04-19 17:21:03\u001b[0m | \u001b[32m\u001b[1mSUCCESS 155208\u001b[0m | \u001b[36mlogger_test\u001b[0m:\u001b[36mtest_mock_application\u001b[0m:\u001b[36m169\u001b[0m - \u001b[32m\u001b[1m配置加載完成\u001b[0m\n",
      "\u001b[32m2025-04-19 17:21:03\u001b[0m | \u001b[1mINFO    155208\u001b[0m | \u001b[36mlogger_test\u001b[0m:\u001b[36mtest_mock_application\u001b[0m:\u001b[36m171\u001b[0m - \u001b[1mCustomBlock\u001b[0m\n"
     ]
    },
    {
     "data": {
      "text/html": [
       "<pre style=\"white-space:pre;overflow-x:auto;line-height:normal;font-family:Menlo,'DejaVu Sans Mono',consolas,'Courier New',monospace\"><span style=\"color: #008080; text-decoration-color: #008080\">╭─ 應用配置摘要 ──────────────────────────────────────────────────────────────────────────────────────────────────╮</span>\n",
       "<span style=\"color: #008080; text-decoration-color: #008080\">│</span> 應用名稱: 日誌系統測試                                                                                          <span style=\"color: #008080; text-decoration-color: #008080\">│</span>\n",
       "<span style=\"color: #008080; text-decoration-color: #008080\">│</span> 版本: 1.0.0                                                                                                     <span style=\"color: #008080; text-decoration-color: #008080\">│</span>\n",
       "<span style=\"color: #008080; text-decoration-color: #008080\">│</span> 環境: 開發環境                                                                                                  <span style=\"color: #008080; text-decoration-color: #008080\">│</span>\n",
       "<span style=\"color: #008080; text-decoration-color: #008080\">│</span> 日誌級別: DEBUG                                                                                                 <span style=\"color: #008080; text-decoration-color: #008080\">│</span>\n",
       "<span style=\"color: #008080; text-decoration-color: #008080\">│</span> 最大日誌文件大小: 20MB                                                                                          <span style=\"color: #008080; text-decoration-color: #008080\">│</span>\n",
       "<span style=\"color: #008080; text-decoration-color: #008080\">╰─────────────────────────────────────────────────────────────────────────────────────────────────────────────────╯</span>\n",
       "</pre>\n"
      ],
      "text/plain": [
       "\u001b[36m╭─\u001b[0m\u001b[36m 應用配置摘要 \u001b[0m\u001b[36m─────────────────────────────────────────────────────────────────────────────────────────────────\u001b[0m\u001b[36m─╮\u001b[0m\n",
       "\u001b[36m│\u001b[0m 應用名稱: 日誌系統測試                                                                                          \u001b[36m│\u001b[0m\n",
       "\u001b[36m│\u001b[0m 版本: 1.0.0                                                                                                     \u001b[36m│\u001b[0m\n",
       "\u001b[36m│\u001b[0m 環境: 開發環境                                                                                                  \u001b[36m│\u001b[0m\n",
       "\u001b[36m│\u001b[0m 日誌級別: DEBUG                                                                                                 \u001b[36m│\u001b[0m\n",
       "\u001b[36m│\u001b[0m 最大日誌文件大小: 20MB                                                                                          \u001b[36m│\u001b[0m\n",
       "\u001b[36m╰─────────────────────────────────────────────────────────────────────────────────────────────────────────────────╯\u001b[0m\n"
      ]
     },
     "metadata": {},
     "output_type": "display_data"
    },
    {
     "name": "stderr",
     "output_type": "stream",
     "text": [
      "\u001b[32m2025-04-19 17:21:03\u001b[0m | \u001b[1mINFO    155208\u001b[0m | \u001b[36mlogger_test\u001b[0m:\u001b[36mtest_mock_application\u001b[0m:\u001b[36m184\u001b[0m - \u001b[1m正在連接資料庫...\u001b[0m\n",
      "\u001b[32m2025-04-19 17:21:04\u001b[0m | \u001b[32m\u001b[1mSUCCESS 155208\u001b[0m | \u001b[36mlogger_test\u001b[0m:\u001b[36mtest_mock_application\u001b[0m:\u001b[36m205\u001b[0m - \u001b[32m\u001b[1m資料庫連接成功\u001b[0m\n",
      "\u001b[32m2025-04-19 17:21:04\u001b[0m | \u001b[1mINFO    155208\u001b[0m | \u001b[36mlogger_test\u001b[0m:\u001b[36mtest_mock_application\u001b[0m:\u001b[36m207\u001b[0m - \u001b[1m正在初始化服務...\u001b[0m\n",
      "\u001b[32m2025-04-19 17:21:06\u001b[0m | \u001b[32m\u001b[1mSUCCESS 155208\u001b[0m | \u001b[36mlogger_test\u001b[0m:\u001b[36mtest_mock_application\u001b[0m:\u001b[36m209\u001b[0m - \u001b[32m\u001b[1m服務初始化完成\u001b[0m\n",
      "\u001b[32m2025-04-19 17:21:06\u001b[0m | \u001b[32m\u001b[1mSUCCESS 155208\u001b[0m | \u001b[36mlogger_test\u001b[0m:\u001b[36mprint_ascii_block\u001b[0m:\u001b[36m126\u001b[0m - \u001b[32m\u001b[1mCustomBlock\u001b[0m\n"
     ]
    },
    {
     "data": {
      "text/html": [
       "<pre style=\"white-space:pre;overflow-x:auto;line-height:normal;font-family:Menlo,'DejaVu Sans Mono',consolas,'Courier New',monospace\"><span style=\"color: #008000; text-decoration-color: #008000\">╭─ 系統就緒 ──────────────────────────────────────────────────────────────────────────────────────────────────────╮</span>\n",
       "<span style=\"color: #008000; text-decoration-color: #008000\">│</span>                                                                                                                 <span style=\"color: #008000; text-decoration-color: #008000\">│</span>\n",
       "<span style=\"color: #008000; text-decoration-color: #008000\">│</span>  .----------------.  .----------------.  .----------------.  .----------------.  .----------------.             <span style=\"color: #008000; text-decoration-color: #008000\">│</span>\n",
       "<span style=\"color: #008000; text-decoration-color: #008000\">│</span> | .--------------. || .--------------. || .--------------. || .--------------. || .--------------. |            <span style=\"color: #008000; text-decoration-color: #008000\">│</span>\n",
       "<span style=\"color: #008000; text-decoration-color: #008000\">│</span> | |  _______     | || |  _________   | || |      __      | || |  ________    | || |  ____  ____  | |            <span style=\"color: #008000; text-decoration-color: #008000\">│</span>\n",
       "<span style=\"color: #008000; text-decoration-color: #008000\">│</span> | | |_   __ \\    | || | |_   ___  |  | || |     /  \\     | || | |_   ___ `.  | || | |_  _||_  _| | |            <span style=\"color: #008000; text-decoration-color: #008000\">│</span>\n",
       "<span style=\"color: #008000; text-decoration-color: #008000\">│</span> | |   | |__) |   | || |   | |_  \\_|  | || |    / /\\ \\    | || |   | |   `. \\ | || |   \\ \\  / /   | |            <span style=\"color: #008000; text-decoration-color: #008000\">│</span>\n",
       "<span style=\"color: #008000; text-decoration-color: #008000\">│</span> | |   |  __ /    | || |   |  _|  _   | || |   / ____ \\   | || |   | |    | | | || |    \\ \\/ /    | |            <span style=\"color: #008000; text-decoration-color: #008000\">│</span>\n",
       "<span style=\"color: #008000; text-decoration-color: #008000\">│</span> | |  _| |  \\ \\_  | || |  _| |___/ |  | || | _/ /    \\ \\_ | || |  _| |___.' / | || |    _|  |_    | |            <span style=\"color: #008000; text-decoration-color: #008000\">│</span>\n",
       "<span style=\"color: #008000; text-decoration-color: #008000\">│</span> | | |____| |___| | || | |_________|  | || ||____|  |____|| || | |________.'  | || |   |______|   | |            <span style=\"color: #008000; text-decoration-color: #008000\">│</span>\n",
       "<span style=\"color: #008000; text-decoration-color: #008000\">│</span> | |              | || |              | || |              | || |              | || |              | |            <span style=\"color: #008000; text-decoration-color: #008000\">│</span>\n",
       "<span style=\"color: #008000; text-decoration-color: #008000\">│</span> | '--------------' || '--------------' || '--------------' || '--------------' || '--------------' |            <span style=\"color: #008000; text-decoration-color: #008000\">│</span>\n",
       "<span style=\"color: #008000; text-decoration-color: #008000\">│</span>  '----------------'  '----------------'  '----------------'  '----------------'  '----------------'             <span style=\"color: #008000; text-decoration-color: #008000\">│</span>\n",
       "<span style=\"color: #008000; text-decoration-color: #008000\">│</span>                                                                                                                 <span style=\"color: #008000; text-decoration-color: #008000\">│</span>\n",
       "<span style=\"color: #008000; text-decoration-color: #008000\">│</span> 啟動時間: 2025-04-19 17:21:06                                                                                   <span style=\"color: #008000; text-decoration-color: #008000\">│</span>\n",
       "<span style=\"color: #008000; text-decoration-color: #008000\">│</span> 已註冊模塊: 用戶管理, 授權中心, 資料處理, 報表生成                                                              <span style=\"color: #008000; text-decoration-color: #008000\">│</span>\n",
       "<span style=\"color: #008000; text-decoration-color: #008000\">│</span> 系統狀態: 運行中                                                                                                <span style=\"color: #008000; text-decoration-color: #008000\">│</span>\n",
       "<span style=\"color: #008000; text-decoration-color: #008000\">│</span> 監聽端口: 8080                                                                                                  <span style=\"color: #008000; text-decoration-color: #008000\">│</span>\n",
       "<span style=\"color: #008000; text-decoration-color: #008000\">│</span> API 版本: v2                                                                                                    <span style=\"color: #008000; text-decoration-color: #008000\">│</span>\n",
       "<span style=\"color: #008000; text-decoration-color: #008000\">╰─────────────────────────────────────────────────────────────────────────────────────────────────────────────────╯</span>\n",
       "</pre>\n"
      ],
      "text/plain": [
       "\u001b[32m╭─\u001b[0m\u001b[32m 系統就緒 \u001b[0m\u001b[32m─────────────────────────────────────────────────────────────────────────────────────────────────────\u001b[0m\u001b[32m─╮\u001b[0m\n",
       "\u001b[32m│\u001b[0m                                                                                                                 \u001b[32m│\u001b[0m\n",
       "\u001b[32m│\u001b[0m  .----------------.  .----------------.  .----------------.  .----------------.  .----------------.             \u001b[32m│\u001b[0m\n",
       "\u001b[32m│\u001b[0m | .--------------. || .--------------. || .--------------. || .--------------. || .--------------. |            \u001b[32m│\u001b[0m\n",
       "\u001b[32m│\u001b[0m | |  _______     | || |  _________   | || |      __      | || |  ________    | || |  ____  ____  | |            \u001b[32m│\u001b[0m\n",
       "\u001b[32m│\u001b[0m | | |_   __ \\    | || | |_   ___  |  | || |     /  \\     | || | |_   ___ `.  | || | |_  _||_  _| | |            \u001b[32m│\u001b[0m\n",
       "\u001b[32m│\u001b[0m | |   | |__) |   | || |   | |_  \\_|  | || |    / /\\ \\    | || |   | |   `. \\ | || |   \\ \\  / /   | |            \u001b[32m│\u001b[0m\n",
       "\u001b[32m│\u001b[0m | |   |  __ /    | || |   |  _|  _   | || |   / ____ \\   | || |   | |    | | | || |    \\ \\/ /    | |            \u001b[32m│\u001b[0m\n",
       "\u001b[32m│\u001b[0m | |  _| |  \\ \\_  | || |  _| |___/ |  | || | _/ /    \\ \\_ | || |  _| |___.' / | || |    _|  |_    | |            \u001b[32m│\u001b[0m\n",
       "\u001b[32m│\u001b[0m | | |____| |___| | || | |_________|  | || ||____|  |____|| || | |________.'  | || |   |______|   | |            \u001b[32m│\u001b[0m\n",
       "\u001b[32m│\u001b[0m | |              | || |              | || |              | || |              | || |              | |            \u001b[32m│\u001b[0m\n",
       "\u001b[32m│\u001b[0m | '--------------' || '--------------' || '--------------' || '--------------' || '--------------' |            \u001b[32m│\u001b[0m\n",
       "\u001b[32m│\u001b[0m  '----------------'  '----------------'  '----------------'  '----------------'  '----------------'             \u001b[32m│\u001b[0m\n",
       "\u001b[32m│\u001b[0m                                                                                                                 \u001b[32m│\u001b[0m\n",
       "\u001b[32m│\u001b[0m 啟動時間: 2025-04-19 17:21:06                                                                                   \u001b[32m│\u001b[0m\n",
       "\u001b[32m│\u001b[0m 已註冊模塊: 用戶管理, 授權中心, 資料處理, 報表生成                                                              \u001b[32m│\u001b[0m\n",
       "\u001b[32m│\u001b[0m 系統狀態: 運行中                                                                                                \u001b[32m│\u001b[0m\n",
       "\u001b[32m│\u001b[0m 監聽端口: 8080                                                                                                  \u001b[32m│\u001b[0m\n",
       "\u001b[32m│\u001b[0m API 版本: v2                                                                                                    \u001b[32m│\u001b[0m\n",
       "\u001b[32m╰─────────────────────────────────────────────────────────────────────────────────────────────────────────────────╯\u001b[0m\n"
      ]
     },
     "metadata": {},
     "output_type": "display_data"
    },
    {
     "name": "stderr",
     "output_type": "stream",
     "text": [
      "\u001b[32m2025-04-19 17:21:06\u001b[0m | \u001b[1mINFO    155208\u001b[0m | \u001b[36mlogger_test\u001b[0m:\u001b[36mtest_mock_application\u001b[0m:\u001b[36m228\u001b[0m - \u001b[1m接收到請求 #1\u001b[0m\n",
      "\u001b[32m2025-04-19 17:21:07\u001b[0m | \u001b[32m\u001b[1mSUCCESS 155208\u001b[0m | \u001b[36mlogger_test\u001b[0m:\u001b[36mtest_mock_application\u001b[0m:\u001b[36m230\u001b[0m - \u001b[32m\u001b[1m請求 #1 處理完成\u001b[0m\n",
      "\u001b[32m2025-04-19 17:21:07\u001b[0m | \u001b[1mINFO    155208\u001b[0m | \u001b[36mlogger_test\u001b[0m:\u001b[36mtest_mock_application\u001b[0m:\u001b[36m228\u001b[0m - \u001b[1m接收到請求 #2\u001b[0m\n",
      "\u001b[32m2025-04-19 17:21:07\u001b[0m | \u001b[32m\u001b[1mSUCCESS 155208\u001b[0m | \u001b[36mlogger_test\u001b[0m:\u001b[36mtest_mock_application\u001b[0m:\u001b[36m230\u001b[0m - \u001b[32m\u001b[1m請求 #2 處理完成\u001b[0m\n",
      "\u001b[32m2025-04-19 17:21:07\u001b[0m | \u001b[1mINFO    155208\u001b[0m | \u001b[36mlogger_test\u001b[0m:\u001b[36mtest_mock_application\u001b[0m:\u001b[36m228\u001b[0m - \u001b[1m接收到請求 #3\u001b[0m\n",
      "\u001b[32m2025-04-19 17:21:08\u001b[0m | \u001b[32m\u001b[1mSUCCESS 155208\u001b[0m | \u001b[36mlogger_test\u001b[0m:\u001b[36mtest_mock_application\u001b[0m:\u001b[36m230\u001b[0m - \u001b[32m\u001b[1m請求 #3 處理完成\u001b[0m\n",
      "\u001b[32m2025-04-19 17:21:08\u001b[0m | \u001b[1mINFO    155208\u001b[0m | \u001b[36mlogger_test\u001b[0m:\u001b[36mtest_mock_application\u001b[0m:\u001b[36m233\u001b[0m - \u001b[1m正在關閉服務...\u001b[0m\n",
      "\u001b[32m2025-04-19 17:21:09\u001b[0m | \u001b[32m\u001b[1mSUCCESS 155208\u001b[0m | \u001b[36mlogger_test\u001b[0m:\u001b[36mtest_mock_application\u001b[0m:\u001b[36m235\u001b[0m - \u001b[32m\u001b[1m服務已安全關閉\u001b[0m\n"
     ]
    },
    {
     "data": {
      "text/html": [
       "<pre style=\"white-space:pre;overflow-x:auto;line-height:normal;font-family:Menlo,'DejaVu Sans Mono',consolas,'Courier New',monospace\"><span style=\"color: #800080; text-decoration-color: #800080\">╭─────────────────────────────────────────────────────────────────────────────────────────────────────────────────╮</span>\n",
       "<span style=\"color: #800080; text-decoration-color: #800080\">│</span>  ____   _   _  _   _  _____  ____    ___  __        __ _   _                                                    <span style=\"color: #800080; text-decoration-color: #800080\">│</span>\n",
       "<span style=\"color: #800080; text-decoration-color: #800080\">│</span> / ___| | | | || | | ||_   _||  _ \\  / _ \\ \\ \\      / /| \\ | |                                                   <span style=\"color: #800080; text-decoration-color: #800080\">│</span>\n",
       "<span style=\"color: #800080; text-decoration-color: #800080\">│</span> \\___ \\ | |_| || | | |  | |  | | | || | | | \\ \\ /\\ / / |  \\| |                                                   <span style=\"color: #800080; text-decoration-color: #800080\">│</span>\n",
       "<span style=\"color: #800080; text-decoration-color: #800080\">│</span>  ___) ||  _  || |_| |  | |  | |_| || |_| |  \\ V  V /  | |\\  |                                                   <span style=\"color: #800080; text-decoration-color: #800080\">│</span>\n",
       "<span style=\"color: #800080; text-decoration-color: #800080\">│</span> |____/ |_| |_| \\___/   |_|  |____/  \\___/    \\_/\\_/   |_| \\_|                                                   <span style=\"color: #800080; text-decoration-color: #800080\">│</span>\n",
       "<span style=\"color: #800080; text-decoration-color: #800080\">│</span>                                                                                                                 <span style=\"color: #800080; text-decoration-color: #800080\">│</span>\n",
       "<span style=\"color: #800080; text-decoration-color: #800080\">│</span>                                                                                                                 <span style=\"color: #800080; text-decoration-color: #800080\">│</span>\n",
       "<span style=\"color: #800080; text-decoration-color: #800080\">╰─────────────────────────────────────────────────────────────────────────────────────────────────────────────────╯</span>\n",
       "</pre>\n"
      ],
      "text/plain": [
       "\u001b[35m╭─────────────────────────────────────────────────────────────────────────────────────────────────────────────────╮\u001b[0m\n",
       "\u001b[35m│\u001b[0m  ____   _   _  _   _  _____  ____    ___  __        __ _   _                                                    \u001b[35m│\u001b[0m\n",
       "\u001b[35m│\u001b[0m / ___| | | | || | | ||_   _||  _ \\  / _ \\ \\ \\      / /| \\ | |                                                   \u001b[35m│\u001b[0m\n",
       "\u001b[35m│\u001b[0m \\___ \\ | |_| || | | |  | |  | | | || | | | \\ \\ /\\ / / |  \\| |                                                   \u001b[35m│\u001b[0m\n",
       "\u001b[35m│\u001b[0m  ___) ||  _  || |_| |  | |  | |_| || |_| |  \\ V  V /  | |\\  |                                                   \u001b[35m│\u001b[0m\n",
       "\u001b[35m│\u001b[0m |____/ |_| |_| \\___/   |_|  |____/  \\___/    \\_/\\_/   |_| \\_|                                                   \u001b[35m│\u001b[0m\n",
       "\u001b[35m│\u001b[0m                                                                                                                 \u001b[35m│\u001b[0m\n",
       "\u001b[35m│\u001b[0m                                                                                                                 \u001b[35m│\u001b[0m\n",
       "\u001b[35m╰─────────────────────────────────────────────────────────────────────────────────────────────────────────────────╯\u001b[0m\n"
      ]
     },
     "metadata": {},
     "output_type": "display_data"
    },
    {
     "name": "stderr",
     "output_type": "stream",
     "text": [
      "\u001b[32m2025-04-19 17:21:09\u001b[0m | \u001b[1mINFO    155208\u001b[0m | \u001b[36mlogger_test\u001b[0m:\u001b[36mtest_mock_application\u001b[0m:\u001b[36m244\u001b[0m - \u001b[1m模擬應用場景測試完成\u001b[0m\n",
      "\u001b[32m2025-04-19 17:21:09\u001b[0m | \u001b[32m\u001b[1mSUCCESS 155208\u001b[0m | \u001b[36mlogger_test\u001b[0m:\u001b[36mmain_example\u001b[0m:\u001b[36m27\u001b[0m - \u001b[32m\u001b[1m所有測試完成!\u001b[0m\n"
     ]
    }
   ],
   "source": [
    "\n",
    "# 定義主函數，用於運行所有測試\n",
    "import random\n",
    "import time\n",
    "\n",
    "\n",
    "def main_example():\n",
    "    try:\n",
    "        # 先導入日誌模塊\n",
    "        from pretty_loguru import logger,logger_start, is_ascii_only\n",
    "        # 初始化日志系统\n",
    "        process_id = logger_start(folder=\"logger_test\")\n",
    "        logger.info(f\"日誌系統初始化完成，進程ID: {process_id}\")\n",
    "        logger.info(\"日誌系統功能測試示例\")\n",
    "        \n",
    "        # 執行各項測試\n",
    "        test_basic_logging()\n",
    "        time.sleep(1)\n",
    "        \n",
    "        test_block_logging()\n",
    "        time.sleep(1)\n",
    "        \n",
    "        test_ascii_logging()\n",
    "        time.sleep(1)\n",
    "        \n",
    "        test_mock_application()\n",
    "        \n",
    "        logger.success(\"所有測試完成!\")\n",
    "    except Exception as e:\n",
    "        print(f\"初始化日誌系統時發生錯誤: {str(e)}\")\n",
    "        import traceback\n",
    "        traceback.print_exc()\n",
    "\n",
    "\n",
    "def test_basic_logging():\n",
    "    \"\"\"測試基本日誌功能\"\"\"\n",
    "    from pretty_loguru import logger\n",
    "    \n",
    "    logger.info(\"=== 測試基本日誌功能 ===\")\n",
    "    logger.debug(\"這是一條調試日誌\")\n",
    "    logger.info(\"這是一條信息日誌\")\n",
    "    logger.success(\"這是一條成功日誌\")\n",
    "    logger.warning(\"這是一條警告日誌\")\n",
    "    logger.error(\"這是一條錯誤日誌\")\n",
    "    logger.critical(\"這是一條嚴重錯誤日誌\")\n",
    "    logger.info(\"基本日誌測試完成\")\n",
    "\n",
    "\n",
    "def test_block_logging():\n",
    "    \"\"\"測試區塊日誌功能\"\"\"\n",
    "    from pretty_loguru import logger\n",
    "    \n",
    "    logger.info(\"=== 測試區塊日誌功能 ===\")\n",
    "    \n",
    "    logger.block(\n",
    "        \"系統狀態摘要\", \n",
    "        [\n",
    "            \"CPU 使用率: 45%\",\n",
    "            \"內存使用率: 60%\",\n",
    "            \"磁盤空間: 120GB 可用\",\n",
    "            \"網絡連接: 正常\",\n",
    "            \"服務狀態: 全部運行中\"\n",
    "        ],\n",
    "        border_style=\"green\",\n",
    "        log_level=\"INFO\"\n",
    "    )\n",
    "    \n",
    "    logger.block(\n",
    "        \"警告訊息\", \n",
    "        [\n",
    "            \"檢測到內存使用率增長過快\",\n",
    "            \"當前增長率: 5% / 分鐘\",\n",
    "            \"預計 30 分鐘後達到警戒線\",\n",
    "            \"建議檢查內存洩漏\"\n",
    "        ],\n",
    "        border_style=\"yellow\",\n",
    "        log_level=\"WARNING\"\n",
    "    )\n",
    "    \n",
    "    logger.info(\"區塊日誌測試完成\")\n",
    "\n",
    "\n",
    "def test_ascii_logging():\n",
    "    \"\"\"測試 ASCII 藝術日誌功能\"\"\"\n",
    "    from pretty_loguru import logger, is_ascii_only\n",
    "    \n",
    "    logger.info(\"=== 測試 ASCII 藝術日誌功能 ===\")\n",
    "    \n",
    "    # 測試 ASCII 字符檢查函數\n",
    "    logger.info(\"檢查文本是否只包含 ASCII 字符:\")\n",
    "    test_strings = [\n",
    "        \"Hello World\",\n",
    "        \"Hello 世界\",\n",
    "        \"123-456-789\",\n",
    "        \"特殊字符: ©®™\",\n",
    "        \"ASCII symbols: !@#$%^&*()\"\n",
    "    ]\n",
    "    \n",
    "    for s in test_strings:\n",
    "        result = is_ascii_only(s)\n",
    "        logger.info(f\"'{s}' 是否只包含 ASCII 字符: {result}\")\n",
    "    \n",
    "    # 顯示基本 ASCII 藝術標題\n",
    "    logger.ascii_header(\n",
    "        \"SYSTEM START\",\n",
    "        font=\"standard\",\n",
    "        border_style=\"blue\",\n",
    "        log_level=\"INFO\"\n",
    "    )\n",
    "    \n",
    "    # 顯示不同字體的 ASCII 藝術標題\n",
    "    fonts = [\"standard\", \"slant\", \"doom\", \"small\", \"block\"]\n",
    "    for font in fonts:\n",
    "        try:\n",
    "            logger.ascii_header(\n",
    "                f\"Font: {font}\",\n",
    "                font=font,\n",
    "                border_style=\"cyan\",\n",
    "                log_level=\"INFO\"\n",
    "            )\n",
    "        except Exception as e:\n",
    "            logger.error(f\"使用字體 '{font}' 生成 ASCII 藝術失敗: {str(e)}\")\n",
    "    \n",
    "    # 測試包含非 ASCII 字符的文本\n",
    "    try:\n",
    "        logger.ascii_header(\n",
    "            \"ASCII與中文混合\",  # 包含非 ASCII 字符\n",
    "            font=\"standard\",\n",
    "            border_style=\"magenta\",\n",
    "            log_level=\"WARNING\"\n",
    "        )\n",
    "    except ValueError as e:\n",
    "        logger.error(f\"預期的錯誤: {str(e)}\")\n",
    "    \n",
    "    # 測試 ASCII 區塊\n",
    "    logger.ascii_block(\n",
    "        \"系統診斷報告\", \n",
    "        [\n",
    "            \"檢查時間: \" + time.strftime(\"%Y-%m-%d %H:%M:%S\"),\n",
    "            \"系統負載: 正常\",\n",
    "            \"安全狀態: 良好\",\n",
    "            \"最近錯誤數量: 0\",\n",
    "            \"運行時間: 24小時12分鐘\"\n",
    "        ],\n",
    "        ascii_header=\"SYSTEM OK\",\n",
    "        ascii_font=\"small\",\n",
    "        border_style=\"green\",\n",
    "        log_level=\"SUCCESS\"\n",
    "    )\n",
    "    \n",
    "    logger.info(\"ASCII 藝術日誌測試完成\")\n",
    "\n",
    "\n",
    "def test_mock_application():\n",
    "    \"\"\"模擬實際應用場景\"\"\"\n",
    "    from pretty_loguru import logger\n",
    "    \n",
    "    logger.info(\"=== 模擬實際應用場景 ===\")\n",
    "    \n",
    "    # 應用啟動\n",
    "    logger.ascii_header(\n",
    "        \"APP STARTUP\",\n",
    "        font=\"slant\",\n",
    "        border_style=\"blue\",\n",
    "        log_level=\"INFO\"\n",
    "    )\n",
    "    \n",
    "    logger.info(\"正在加載配置...\")\n",
    "    time.sleep(0.5)\n",
    "    logger.success(\"配置加載完成\")\n",
    "    \n",
    "    logger.block(\n",
    "        \"應用配置摘要\", \n",
    "        [\n",
    "            \"應用名稱: 日誌系統測試\",\n",
    "            \"版本: 1.0.0\",\n",
    "            \"環境: 開發環境\",\n",
    "            \"日誌級別: DEBUG\",\n",
    "            \"最大日誌文件大小: 20MB\"\n",
    "        ],\n",
    "        border_style=\"cyan\",\n",
    "        log_level=\"INFO\"\n",
    "    )\n",
    "    \n",
    "    logger.info(\"正在連接資料庫...\")\n",
    "    time.sleep(1)\n",
    "    \n",
    "    # 隨機模擬錯誤情況\n",
    "    if random.random() < 0.3:\n",
    "        logger.error(\"資料庫連接失敗\")\n",
    "        logger.ascii_block(\n",
    "            \"錯誤報告\", \n",
    "            [\n",
    "                \"錯誤類型: 資料庫連接失敗\",\n",
    "                \"錯誤碼: DB-5001\",\n",
    "                \"失敗原因: 無法解析主機名\",\n",
    "                \"嘗試次數: 3\",\n",
    "                \"建議措施: 檢查網絡連接和資料庫服務狀態\"\n",
    "            ],\n",
    "            ascii_header=\"ERROR\",\n",
    "            ascii_font=\"doom\",\n",
    "            border_style=\"red\",\n",
    "            log_level=\"ERROR\"\n",
    "        )\n",
    "    else:\n",
    "        logger.success(\"資料庫連接成功\")\n",
    "        \n",
    "        logger.info(\"正在初始化服務...\")\n",
    "        time.sleep(1.5)\n",
    "        logger.success(\"服務初始化完成\")\n",
    "        \n",
    "        logger.ascii_block(\n",
    "            \"系統就緒\", \n",
    "            [\n",
    "                \"啟動時間: \" + time.strftime(\"%Y-%m-%d %H:%M:%S\"),\n",
    "                \"已註冊模塊: 用戶管理, 授權中心, 資料處理, 報表生成\",\n",
    "                \"系統狀態: 運行中\",\n",
    "                \"監聽端口: 8080\",\n",
    "                \"API 版本: v2\"\n",
    "            ],\n",
    "            ascii_header=\"READY\",\n",
    "            ascii_font=\"block\",\n",
    "            border_style=\"green\",\n",
    "            log_level=\"SUCCESS\"\n",
    "        )\n",
    "        \n",
    "        # 模擬處理請求\n",
    "        for i in range(3):\n",
    "            logger.info(f\"接收到請求 #{i+1}\")\n",
    "            time.sleep(0.8)\n",
    "            logger.success(f\"請求 #{i+1} 處理完成\")\n",
    "    \n",
    "    # 應用關閉\n",
    "    logger.info(\"正在關閉服務...\")\n",
    "    time.sleep(1)\n",
    "    logger.success(\"服務已安全關閉\")\n",
    "    \n",
    "    logger.ascii_header(\n",
    "        \"SHUTDOWN\",\n",
    "        font=\"standard\",\n",
    "        border_style=\"magenta\",\n",
    "        log_level=\"INFO\"\n",
    "    )\n",
    "    \n",
    "    logger.info(\"模擬應用場景測試完成\")\n",
    "\n",
    "\n",
    "if __name__ == \"__main__\":\n",
    "    main_example()"
   ]
  },
  {
   "cell_type": "code",
   "execution_count": 1,
   "metadata": {},
   "outputs": [
    {
     "name": "stderr",
     "output_type": "stream",
     "text": [
      "\u001b[32m2025-04-19 17:36:34\u001b[0m | \u001b[1mINFO    137376\u001b[0m | \u001b[36mlogger_test\u001b[0m:\u001b[36mstart\u001b[0m:\u001b[36m136\u001b[0m - \u001b[1mLogger: Clear Log Thread Started...!!!\u001b[0m\n",
      "\u001b[32m2025-04-19 17:36:34\u001b[0m | \u001b[1mINFO    137376\u001b[0m | \u001b[36mlogger_test\u001b[0m:\u001b[36mmain_example\u001b[0m:\u001b[36m12\u001b[0m - \u001b[1mLogger system initialized, process ID: logger_test\u001b[0m\n",
      "\u001b[32m2025-04-19 17:36:34\u001b[0m | \u001b[1mINFO    137376\u001b[0m | \u001b[36mlogger_test\u001b[0m:\u001b[36mmain_example\u001b[0m:\u001b[36m13\u001b[0m - \u001b[1mLogging system feature test example\u001b[0m\n",
      "\u001b[32m2025-04-19 17:36:34\u001b[0m | \u001b[1mINFO    137376\u001b[0m | \u001b[36mlogger_test\u001b[0m:\u001b[36mtest_basic_logging\u001b[0m:\u001b[36m38\u001b[0m - \u001b[1m=== Testing Basic Logging ===\u001b[0m\n",
      "\u001b[32m2025-04-19 17:36:34\u001b[0m | \u001b[1mINFO    137376\u001b[0m | \u001b[36mlogger_test\u001b[0m:\u001b[36mtest_basic_logging\u001b[0m:\u001b[36m40\u001b[0m - \u001b[1mThis is an info message\u001b[0m\n",
      "\u001b[32m2025-04-19 17:36:34\u001b[0m | \u001b[32m\u001b[1mSUCCESS 137376\u001b[0m | \u001b[36mlogger_test\u001b[0m:\u001b[36mtest_basic_logging\u001b[0m:\u001b[36m41\u001b[0m - \u001b[32m\u001b[1mThis is a success message\u001b[0m\n",
      "\u001b[32m2025-04-19 17:36:34\u001b[0m | \u001b[33m\u001b[1mWARNING 137376\u001b[0m | \u001b[36mlogger_test\u001b[0m:\u001b[36mtest_basic_logging\u001b[0m:\u001b[36m42\u001b[0m - \u001b[33m\u001b[1mThis is a warning message\u001b[0m\n",
      "\u001b[32m2025-04-19 17:36:34\u001b[0m | \u001b[31m\u001b[1mERROR   137376\u001b[0m | \u001b[36mlogger_test\u001b[0m:\u001b[36mtest_basic_logging\u001b[0m:\u001b[36m43\u001b[0m - \u001b[31m\u001b[1mThis is an error message\u001b[0m\n",
      "\u001b[32m2025-04-19 17:36:34\u001b[0m | \u001b[41m\u001b[1mCRITICAL137376\u001b[0m | \u001b[36mlogger_test\u001b[0m:\u001b[36mtest_basic_logging\u001b[0m:\u001b[36m44\u001b[0m - \u001b[41m\u001b[1mThis is a critical message\u001b[0m\n",
      "\u001b[32m2025-04-19 17:36:34\u001b[0m | \u001b[1mINFO    137376\u001b[0m | \u001b[36mlogger_test\u001b[0m:\u001b[36mtest_basic_logging\u001b[0m:\u001b[36m45\u001b[0m - \u001b[1mBasic logging test completed\u001b[0m\n",
      "\u001b[32m2025-04-19 17:36:35\u001b[0m | \u001b[1mINFO    137376\u001b[0m | \u001b[36mlogger_test\u001b[0m:\u001b[36mtest_block_logging\u001b[0m:\u001b[36m52\u001b[0m - \u001b[1m=== Testing Block Logging ===\u001b[0m\n",
      "\u001b[32m2025-04-19 17:36:35\u001b[0m | \u001b[1mINFO    137376\u001b[0m | \u001b[36mlogger_test\u001b[0m:\u001b[36mtest_block_logging\u001b[0m:\u001b[36m54\u001b[0m - \u001b[1mCustomBlock\u001b[0m\n"
     ]
    },
    {
     "data": {
      "text/html": [
       "<pre style=\"white-space:pre;overflow-x:auto;line-height:normal;font-family:Menlo,'DejaVu Sans Mono',consolas,'Courier New',monospace\"><span style=\"color: #008000; text-decoration-color: #008000\">╭─ System Status Summary ─────────────────────────────────────────────────────────────────────────────────────────╮</span>\n",
       "<span style=\"color: #008000; text-decoration-color: #008000\">│</span> CPU Usage: 45%                                                                                                  <span style=\"color: #008000; text-decoration-color: #008000\">│</span>\n",
       "<span style=\"color: #008000; text-decoration-color: #008000\">│</span> Memory Usage: 60%                                                                                               <span style=\"color: #008000; text-decoration-color: #008000\">│</span>\n",
       "<span style=\"color: #008000; text-decoration-color: #008000\">│</span> Disk Space: 120GB available                                                                                     <span style=\"color: #008000; text-decoration-color: #008000\">│</span>\n",
       "<span style=\"color: #008000; text-decoration-color: #008000\">│</span> Network Connection: OK                                                                                          <span style=\"color: #008000; text-decoration-color: #008000\">│</span>\n",
       "<span style=\"color: #008000; text-decoration-color: #008000\">│</span> Service Status: All running                                                                                     <span style=\"color: #008000; text-decoration-color: #008000\">│</span>\n",
       "<span style=\"color: #008000; text-decoration-color: #008000\">╰─────────────────────────────────────────────────────────────────────────────────────────────────────────────────╯</span>\n",
       "</pre>\n"
      ],
      "text/plain": [
       "\u001b[32m╭─\u001b[0m\u001b[32m System Status Summary \u001b[0m\u001b[32m────────────────────────────────────────────────────────────────────────────────────────\u001b[0m\u001b[32m─╮\u001b[0m\n",
       "\u001b[32m│\u001b[0m CPU Usage: 45%                                                                                                  \u001b[32m│\u001b[0m\n",
       "\u001b[32m│\u001b[0m Memory Usage: 60%                                                                                               \u001b[32m│\u001b[0m\n",
       "\u001b[32m│\u001b[0m Disk Space: 120GB available                                                                                     \u001b[32m│\u001b[0m\n",
       "\u001b[32m│\u001b[0m Network Connection: OK                                                                                          \u001b[32m│\u001b[0m\n",
       "\u001b[32m│\u001b[0m Service Status: All running                                                                                     \u001b[32m│\u001b[0m\n",
       "\u001b[32m╰─────────────────────────────────────────────────────────────────────────────────────────────────────────────────╯\u001b[0m\n"
      ]
     },
     "metadata": {},
     "output_type": "display_data"
    },
    {
     "name": "stderr",
     "output_type": "stream",
     "text": [
      "\u001b[32m2025-04-19 17:36:35\u001b[0m | \u001b[33m\u001b[1mWARNING 137376\u001b[0m | \u001b[36mlogger_test\u001b[0m:\u001b[36mtest_block_logging\u001b[0m:\u001b[36m67\u001b[0m - \u001b[33m\u001b[1mCustomBlock\u001b[0m\n"
     ]
    },
    {
     "data": {
      "text/html": [
       "<pre style=\"white-space:pre;overflow-x:auto;line-height:normal;font-family:Menlo,'DejaVu Sans Mono',consolas,'Courier New',monospace\"><span style=\"color: #808000; text-decoration-color: #808000\">╭─ Warning Messages ──────────────────────────────────────────────────────────────────────────────────────────────╮</span>\n",
       "<span style=\"color: #808000; text-decoration-color: #808000\">│</span> High memory usage detected                                                                                      <span style=\"color: #808000; text-decoration-color: #808000\">│</span>\n",
       "<span style=\"color: #808000; text-decoration-color: #808000\">│</span> Current growth rate: 5% / min                                                                                   <span style=\"color: #808000; text-decoration-color: #808000\">│</span>\n",
       "<span style=\"color: #808000; text-decoration-color: #808000\">│</span> Estimated to reach threshold in 30 minutes                                                                      <span style=\"color: #808000; text-decoration-color: #808000\">│</span>\n",
       "<span style=\"color: #808000; text-decoration-color: #808000\">│</span> Suggested action: check for memory leaks                                                                        <span style=\"color: #808000; text-decoration-color: #808000\">│</span>\n",
       "<span style=\"color: #808000; text-decoration-color: #808000\">╰─────────────────────────────────────────────────────────────────────────────────────────────────────────────────╯</span>\n",
       "</pre>\n"
      ],
      "text/plain": [
       "\u001b[33m╭─\u001b[0m\u001b[33m Warning Messages \u001b[0m\u001b[33m─────────────────────────────────────────────────────────────────────────────────────────────\u001b[0m\u001b[33m─╮\u001b[0m\n",
       "\u001b[33m│\u001b[0m High memory usage detected                                                                                      \u001b[33m│\u001b[0m\n",
       "\u001b[33m│\u001b[0m Current growth rate: 5% / min                                                                                   \u001b[33m│\u001b[0m\n",
       "\u001b[33m│\u001b[0m Estimated to reach threshold in 30 minutes                                                                      \u001b[33m│\u001b[0m\n",
       "\u001b[33m│\u001b[0m Suggested action: check for memory leaks                                                                        \u001b[33m│\u001b[0m\n",
       "\u001b[33m╰─────────────────────────────────────────────────────────────────────────────────────────────────────────────────╯\u001b[0m\n"
      ]
     },
     "metadata": {},
     "output_type": "display_data"
    },
    {
     "name": "stderr",
     "output_type": "stream",
     "text": [
      "\u001b[32m2025-04-19 17:36:35\u001b[0m | \u001b[1mINFO    137376\u001b[0m | \u001b[36mlogger_test\u001b[0m:\u001b[36mtest_block_logging\u001b[0m:\u001b[36m79\u001b[0m - \u001b[1mBlock logging test completed\u001b[0m\n",
      "\u001b[32m2025-04-19 17:36:36\u001b[0m | \u001b[1mINFO    137376\u001b[0m | \u001b[36mlogger_test\u001b[0m:\u001b[36mtest_ascii_logging\u001b[0m:\u001b[36m86\u001b[0m - \u001b[1m=== Testing ASCII Art Logging ===\u001b[0m\n",
      "\u001b[32m2025-04-19 17:36:36\u001b[0m | \u001b[1mINFO    137376\u001b[0m | \u001b[36mlogger_test\u001b[0m:\u001b[36mtest_ascii_logging\u001b[0m:\u001b[36m89\u001b[0m - \u001b[1mChecking if text contains only ASCII characters:\u001b[0m\n",
      "\u001b[32m2025-04-19 17:36:36\u001b[0m | \u001b[1mINFO    137376\u001b[0m | \u001b[36mlogger_test\u001b[0m:\u001b[36mtest_ascii_logging\u001b[0m:\u001b[36m100\u001b[0m - \u001b[1m'Hello World' only ASCII: True\u001b[0m\n",
      "\u001b[32m2025-04-19 17:36:36\u001b[0m | \u001b[1mINFO    137376\u001b[0m | \u001b[36mlogger_test\u001b[0m:\u001b[36mtest_ascii_logging\u001b[0m:\u001b[36m100\u001b[0m - \u001b[1m'Hello 世界' only ASCII: False\u001b[0m\n",
      "\u001b[32m2025-04-19 17:36:36\u001b[0m | \u001b[1mINFO    137376\u001b[0m | \u001b[36mlogger_test\u001b[0m:\u001b[36mtest_ascii_logging\u001b[0m:\u001b[36m100\u001b[0m - \u001b[1m'123-456-789' only ASCII: True\u001b[0m\n",
      "\u001b[32m2025-04-19 17:36:36\u001b[0m | \u001b[1mINFO    137376\u001b[0m | \u001b[36mlogger_test\u001b[0m:\u001b[36mtest_ascii_logging\u001b[0m:\u001b[36m100\u001b[0m - \u001b[1m'Special chars: ©®™' only ASCII: False\u001b[0m\n",
      "\u001b[32m2025-04-19 17:36:36\u001b[0m | \u001b[1mINFO    137376\u001b[0m | \u001b[36mlogger_test\u001b[0m:\u001b[36mtest_ascii_logging\u001b[0m:\u001b[36m100\u001b[0m - \u001b[1m'ASCII symbols: !@#$%^&*()' only ASCII: True\u001b[0m\n"
     ]
    },
    {
     "data": {
      "text/html": [
       "<pre style=\"white-space:pre;overflow-x:auto;line-height:normal;font-family:Menlo,'DejaVu Sans Mono',consolas,'Courier New',monospace\"><span style=\"color: #000080; text-decoration-color: #000080\">╭─────────────────────────────────────────────────────────────────────────────────────────────────────────────────╮</span>\n",
       "<span style=\"color: #000080; text-decoration-color: #000080\">│</span>  ____  __   __ ____   _____  _____  __  __   ____   _____     _     ____   _____                                <span style=\"color: #000080; text-decoration-color: #000080\">│</span>\n",
       "<span style=\"color: #000080; text-decoration-color: #000080\">│</span> / ___| \\ \\ / // ___| |_   _|| ____||  \\/  | / ___| |_   _|   / \\   |  _ \\ |_   _|                               <span style=\"color: #000080; text-decoration-color: #000080\">│</span>\n",
       "<span style=\"color: #000080; text-decoration-color: #000080\">│</span> \\___ \\  \\ V / \\___ \\   | |  |  _|  | |\\/| | \\___ \\   | |    / _ \\  | |_) |  | |                                 <span style=\"color: #000080; text-decoration-color: #000080\">│</span>\n",
       "<span style=\"color: #000080; text-decoration-color: #000080\">│</span>  ___) |  | |   ___) |  | |  | |___ | |  | |  ___) |  | |   / ___ \\ |  _ &lt;   | |                                 <span style=\"color: #000080; text-decoration-color: #000080\">│</span>\n",
       "<span style=\"color: #000080; text-decoration-color: #000080\">│</span> |____/   |_|  |____/   |_|  |_____||_|  |_| |____/   |_|  /_/   \\_\\|_| \\_\\  |_|                                 <span style=\"color: #000080; text-decoration-color: #000080\">│</span>\n",
       "<span style=\"color: #000080; text-decoration-color: #000080\">│</span>                                                                                                                 <span style=\"color: #000080; text-decoration-color: #000080\">│</span>\n",
       "<span style=\"color: #000080; text-decoration-color: #000080\">│</span>                                                                                                                 <span style=\"color: #000080; text-decoration-color: #000080\">│</span>\n",
       "<span style=\"color: #000080; text-decoration-color: #000080\">╰─────────────────────────────────────────────────────────────────────────────────────────────────────────────────╯</span>\n",
       "</pre>\n"
      ],
      "text/plain": [
       "\u001b[34m╭─────────────────────────────────────────────────────────────────────────────────────────────────────────────────╮\u001b[0m\n",
       "\u001b[34m│\u001b[0m  ____  __   __ ____   _____  _____  __  __   ____   _____     _     ____   _____                                \u001b[34m│\u001b[0m\n",
       "\u001b[34m│\u001b[0m / ___| \\ \\ / // ___| |_   _|| ____||  \\/  | / ___| |_   _|   / \\   |  _ \\ |_   _|                               \u001b[34m│\u001b[0m\n",
       "\u001b[34m│\u001b[0m \\___ \\  \\ V / \\___ \\   | |  |  _|  | |\\/| | \\___ \\   | |    / _ \\  | |_) |  | |                                 \u001b[34m│\u001b[0m\n",
       "\u001b[34m│\u001b[0m  ___) |  | |   ___) |  | |  | |___ | |  | |  ___) |  | |   / ___ \\ |  _ <   | |                                 \u001b[34m│\u001b[0m\n",
       "\u001b[34m│\u001b[0m |____/   |_|  |____/   |_|  |_____||_|  |_| |____/   |_|  /_/   \\_\\|_| \\_\\  |_|                                 \u001b[34m│\u001b[0m\n",
       "\u001b[34m│\u001b[0m                                                                                                                 \u001b[34m│\u001b[0m\n",
       "\u001b[34m│\u001b[0m                                                                                                                 \u001b[34m│\u001b[0m\n",
       "\u001b[34m╰─────────────────────────────────────────────────────────────────────────────────────────────────────────────────╯\u001b[0m\n"
      ]
     },
     "metadata": {},
     "output_type": "display_data"
    },
    {
     "data": {
      "text/html": [
       "<pre style=\"white-space:pre;overflow-x:auto;line-height:normal;font-family:Menlo,'DejaVu Sans Mono',consolas,'Courier New',monospace\"><span style=\"color: #008080; text-decoration-color: #008080\">╭─────────────────────────────────────────────────────────────────────────────────────────────────────────────────╮</span>\n",
       "<span style=\"color: #008080; text-decoration-color: #008080\">│</span>  _____                _             _                      _                   _                                <span style=\"color: #008080; text-decoration-color: #008080\">│</span>\n",
       "<span style=\"color: #008080; text-decoration-color: #008080\">│</span> |  ___|  ___   _ __  | |_  _   ___ | |_   __ _  _ __    __| |  __ _  _ __   __| |                               <span style=\"color: #008080; text-decoration-color: #008080\">│</span>\n",
       "<span style=\"color: #008080; text-decoration-color: #008080\">│</span> | |_    / _ \\ | '_ \\ | __|(_) / __|| __| / _` || '_ \\  / _` | / _` || '__| / _` |                               <span style=\"color: #008080; text-decoration-color: #008080\">│</span>\n",
       "<span style=\"color: #008080; text-decoration-color: #008080\">│</span> |  _|  | (_) || | | || |_  _  \\__ \\| |_ | (_| || | | || (_| || (_| || |   | (_| |                               <span style=\"color: #008080; text-decoration-color: #008080\">│</span>\n",
       "<span style=\"color: #008080; text-decoration-color: #008080\">│</span> |_|     \\___/ |_| |_| \\__|(_) |___/ \\__| \\__,_||_| |_| \\__,_| \\__,_||_|    \\__,_|                               <span style=\"color: #008080; text-decoration-color: #008080\">│</span>\n",
       "<span style=\"color: #008080; text-decoration-color: #008080\">│</span>                                                                                                                 <span style=\"color: #008080; text-decoration-color: #008080\">│</span>\n",
       "<span style=\"color: #008080; text-decoration-color: #008080\">│</span>                                                                                                                 <span style=\"color: #008080; text-decoration-color: #008080\">│</span>\n",
       "<span style=\"color: #008080; text-decoration-color: #008080\">╰─────────────────────────────────────────────────────────────────────────────────────────────────────────────────╯</span>\n",
       "</pre>\n"
      ],
      "text/plain": [
       "\u001b[36m╭─────────────────────────────────────────────────────────────────────────────────────────────────────────────────╮\u001b[0m\n",
       "\u001b[36m│\u001b[0m  _____                _             _                      _                   _                                \u001b[36m│\u001b[0m\n",
       "\u001b[36m│\u001b[0m |  ___|  ___   _ __  | |_  _   ___ | |_   __ _  _ __    __| |  __ _  _ __   __| |                               \u001b[36m│\u001b[0m\n",
       "\u001b[36m│\u001b[0m | |_    / _ \\ | '_ \\ | __|(_) / __|| __| / _` || '_ \\  / _` | / _` || '__| / _` |                               \u001b[36m│\u001b[0m\n",
       "\u001b[36m│\u001b[0m |  _|  | (_) || | | || |_  _  \\__ \\| |_ | (_| || | | || (_| || (_| || |   | (_| |                               \u001b[36m│\u001b[0m\n",
       "\u001b[36m│\u001b[0m |_|     \\___/ |_| |_| \\__|(_) |___/ \\__| \\__,_||_| |_| \\__,_| \\__,_||_|    \\__,_|                               \u001b[36m│\u001b[0m\n",
       "\u001b[36m│\u001b[0m                                                                                                                 \u001b[36m│\u001b[0m\n",
       "\u001b[36m│\u001b[0m                                                                                                                 \u001b[36m│\u001b[0m\n",
       "\u001b[36m╰─────────────────────────────────────────────────────────────────────────────────────────────────────────────────╯\u001b[0m\n"
      ]
     },
     "metadata": {},
     "output_type": "display_data"
    },
    {
     "data": {
      "text/html": [
       "<pre style=\"white-space:pre;overflow-x:auto;line-height:normal;font-family:Menlo,'DejaVu Sans Mono',consolas,'Courier New',monospace\"><span style=\"color: #008080; text-decoration-color: #008080\">╭─────────────────────────────────────────────────────────────────────────────────────────────────────────────────╮</span>\n",
       "<span style=\"color: #008080; text-decoration-color: #008080\">│</span>     ______                  __                         __                   __                                  <span style=\"color: #008080; text-decoration-color: #008080\">│</span>\n",
       "<span style=\"color: #008080; text-decoration-color: #008080\">│</span>    / ____/  ____    ____   / /_   _           _____   / /  ____ _   ____   / /_                                 <span style=\"color: #008080; text-decoration-color: #008080\">│</span>\n",
       "<span style=\"color: #008080; text-decoration-color: #008080\">│</span>   / /_     / __ \\  / __ \\ / __/  (_)         / ___/  / /  / __ `/  / __ \\ / __/                                 <span style=\"color: #008080; text-decoration-color: #008080\">│</span>\n",
       "<span style=\"color: #008080; text-decoration-color: #008080\">│</span>  / __/    / /_/ / / / / // /_   _           (__  )  / /  / /_/ /  / / / // /_                                   <span style=\"color: #008080; text-decoration-color: #008080\">│</span>\n",
       "<span style=\"color: #008080; text-decoration-color: #008080\">│</span> /_/       \\____/ /_/ /_/ \\__/  (_)         /____/  /_/   \\__,_/  /_/ /_/ \\__/                                   <span style=\"color: #008080; text-decoration-color: #008080\">│</span>\n",
       "<span style=\"color: #008080; text-decoration-color: #008080\">│</span>                                                                                                                 <span style=\"color: #008080; text-decoration-color: #008080\">│</span>\n",
       "<span style=\"color: #008080; text-decoration-color: #008080\">│</span>                                                                                                                 <span style=\"color: #008080; text-decoration-color: #008080\">│</span>\n",
       "<span style=\"color: #008080; text-decoration-color: #008080\">╰─────────────────────────────────────────────────────────────────────────────────────────────────────────────────╯</span>\n",
       "</pre>\n"
      ],
      "text/plain": [
       "\u001b[36m╭─────────────────────────────────────────────────────────────────────────────────────────────────────────────────╮\u001b[0m\n",
       "\u001b[36m│\u001b[0m     ______                  __                         __                   __                                  \u001b[36m│\u001b[0m\n",
       "\u001b[36m│\u001b[0m    / ____/  ____    ____   / /_   _           _____   / /  ____ _   ____   / /_                                 \u001b[36m│\u001b[0m\n",
       "\u001b[36m│\u001b[0m   / /_     / __ \\  / __ \\ / __/  (_)         / ___/  / /  / __ `/  / __ \\ / __/                                 \u001b[36m│\u001b[0m\n",
       "\u001b[36m│\u001b[0m  / __/    / /_/ / / / / // /_   _           (__  )  / /  / /_/ /  / / / // /_                                   \u001b[36m│\u001b[0m\n",
       "\u001b[36m│\u001b[0m /_/       \\____/ /_/ /_/ \\__/  (_)         /____/  /_/   \\__,_/  /_/ /_/ \\__/                                   \u001b[36m│\u001b[0m\n",
       "\u001b[36m│\u001b[0m                                                                                                                 \u001b[36m│\u001b[0m\n",
       "\u001b[36m│\u001b[0m                                                                                                                 \u001b[36m│\u001b[0m\n",
       "\u001b[36m╰─────────────────────────────────────────────────────────────────────────────────────────────────────────────────╯\u001b[0m\n"
      ]
     },
     "metadata": {},
     "output_type": "display_data"
    },
    {
     "data": {
      "text/html": [
       "<pre style=\"white-space:pre;overflow-x:auto;line-height:normal;font-family:Menlo,'DejaVu Sans Mono',consolas,'Courier New',monospace\"><span style=\"color: #008080; text-decoration-color: #008080\">╭─────────────────────────────────────────────────────────────────────────────────────────────────────────────────╮</span>\n",
       "<span style=\"color: #008080; text-decoration-color: #008080\">│</span> ______                _            _                                                                            <span style=\"color: #008080; text-decoration-color: #008080\">│</span>\n",
       "<span style=\"color: #008080; text-decoration-color: #008080\">│</span> |  ___|              | |   _      | |                                                                           <span style=\"color: #008080; text-decoration-color: #008080\">│</span>\n",
       "<span style=\"color: #008080; text-decoration-color: #008080\">│</span> | |_     ___   _ __  | |_ (_)   __| |  ___    ___   _ __ ___                                                    <span style=\"color: #008080; text-decoration-color: #008080\">│</span>\n",
       "<span style=\"color: #008080; text-decoration-color: #008080\">│</span> |  _|   / _ \\ | '_ \\ | __|     / _` | / _ \\  / _ \\ | '_ ` _ \\                                                   <span style=\"color: #008080; text-decoration-color: #008080\">│</span>\n",
       "<span style=\"color: #008080; text-decoration-color: #008080\">│</span> | |    | (_) || | | || |_  _  | (_| || (_) || (_) || | | | | |                                                  <span style=\"color: #008080; text-decoration-color: #008080\">│</span>\n",
       "<span style=\"color: #008080; text-decoration-color: #008080\">│</span> \\_|     \\___/ |_| |_| \\__|(_)  \\__,_| \\___/  \\___/ |_| |_| |_|                                                  <span style=\"color: #008080; text-decoration-color: #008080\">│</span>\n",
       "<span style=\"color: #008080; text-decoration-color: #008080\">│</span>                                                                                                                 <span style=\"color: #008080; text-decoration-color: #008080\">│</span>\n",
       "<span style=\"color: #008080; text-decoration-color: #008080\">│</span>                                                                                                                 <span style=\"color: #008080; text-decoration-color: #008080\">│</span>\n",
       "<span style=\"color: #008080; text-decoration-color: #008080\">│</span>                                                                                                                 <span style=\"color: #008080; text-decoration-color: #008080\">│</span>\n",
       "<span style=\"color: #008080; text-decoration-color: #008080\">╰─────────────────────────────────────────────────────────────────────────────────────────────────────────────────╯</span>\n",
       "</pre>\n"
      ],
      "text/plain": [
       "\u001b[36m╭─────────────────────────────────────────────────────────────────────────────────────────────────────────────────╮\u001b[0m\n",
       "\u001b[36m│\u001b[0m ______                _            _                                                                            \u001b[36m│\u001b[0m\n",
       "\u001b[36m│\u001b[0m |  ___|              | |   _      | |                                                                           \u001b[36m│\u001b[0m\n",
       "\u001b[36m│\u001b[0m | |_     ___   _ __  | |_ (_)   __| |  ___    ___   _ __ ___                                                    \u001b[36m│\u001b[0m\n",
       "\u001b[36m│\u001b[0m |  _|   / _ \\ | '_ \\ | __|     / _` | / _ \\  / _ \\ | '_ ` _ \\                                                   \u001b[36m│\u001b[0m\n",
       "\u001b[36m│\u001b[0m | |    | (_) || | | || |_  _  | (_| || (_) || (_) || | | | | |                                                  \u001b[36m│\u001b[0m\n",
       "\u001b[36m│\u001b[0m \\_|     \\___/ |_| |_| \\__|(_)  \\__,_| \\___/  \\___/ |_| |_| |_|                                                  \u001b[36m│\u001b[0m\n",
       "\u001b[36m│\u001b[0m                                                                                                                 \u001b[36m│\u001b[0m\n",
       "\u001b[36m│\u001b[0m                                                                                                                 \u001b[36m│\u001b[0m\n",
       "\u001b[36m│\u001b[0m                                                                                                                 \u001b[36m│\u001b[0m\n",
       "\u001b[36m╰─────────────────────────────────────────────────────────────────────────────────────────────────────────────────╯\u001b[0m\n"
      ]
     },
     "metadata": {},
     "output_type": "display_data"
    },
    {
     "data": {
      "text/html": [
       "<pre style=\"white-space:pre;overflow-x:auto;line-height:normal;font-family:Menlo,'DejaVu Sans Mono',consolas,'Courier New',monospace\"><span style=\"color: #008080; text-decoration-color: #008080\">╭─────────────────────────────────────────────────────────────────────────────────────────────────────────────────╮</span>\n",
       "<span style=\"color: #008080; text-decoration-color: #008080\">│</span>  ___             _    _                    _  _                                                                 <span style=\"color: #008080; text-decoration-color: #008080\">│</span>\n",
       "<span style=\"color: #008080; text-decoration-color: #008080\">│</span> | __| ___  _ _  | |_ (_)  ___ _ __   __ _ | || |                                                                <span style=\"color: #008080; text-decoration-color: #008080\">│</span>\n",
       "<span style=\"color: #008080; text-decoration-color: #008080\">│</span> | _| / _ \\| ' \\ |  _| _  (_-&lt;| '  \\ / _` || || |                                                                <span style=\"color: #008080; text-decoration-color: #008080\">│</span>\n",
       "<span style=\"color: #008080; text-decoration-color: #008080\">│</span> |_|  \\___/|_||_| \\__|(_) /__/|_|_|_|\\__,_||_||_|                                                                <span style=\"color: #008080; text-decoration-color: #008080\">│</span>\n",
       "<span style=\"color: #008080; text-decoration-color: #008080\">│</span>                                                                                                                 <span style=\"color: #008080; text-decoration-color: #008080\">│</span>\n",
       "<span style=\"color: #008080; text-decoration-color: #008080\">│</span>                                                                                                                 <span style=\"color: #008080; text-decoration-color: #008080\">│</span>\n",
       "<span style=\"color: #008080; text-decoration-color: #008080\">╰─────────────────────────────────────────────────────────────────────────────────────────────────────────────────╯</span>\n",
       "</pre>\n"
      ],
      "text/plain": [
       "\u001b[36m╭─────────────────────────────────────────────────────────────────────────────────────────────────────────────────╮\u001b[0m\n",
       "\u001b[36m│\u001b[0m  ___             _    _                    _  _                                                                 \u001b[36m│\u001b[0m\n",
       "\u001b[36m│\u001b[0m | __| ___  _ _  | |_ (_)  ___ _ __   __ _ | || |                                                                \u001b[36m│\u001b[0m\n",
       "\u001b[36m│\u001b[0m | _| / _ \\| ' \\ |  _| _  (_-<| '  \\ / _` || || |                                                                \u001b[36m│\u001b[0m\n",
       "\u001b[36m│\u001b[0m |_|  \\___/|_||_| \\__|(_) /__/|_|_|_|\\__,_||_||_|                                                                \u001b[36m│\u001b[0m\n",
       "\u001b[36m│\u001b[0m                                                                                                                 \u001b[36m│\u001b[0m\n",
       "\u001b[36m│\u001b[0m                                                                                                                 \u001b[36m│\u001b[0m\n",
       "\u001b[36m╰─────────────────────────────────────────────────────────────────────────────────────────────────────────────────╯\u001b[0m\n"
      ]
     },
     "metadata": {},
     "output_type": "display_data"
    },
    {
     "data": {
      "text/html": [
       "<pre style=\"white-space:pre;overflow-x:auto;line-height:normal;font-family:Menlo,'DejaVu Sans Mono',consolas,'Courier New',monospace\"><span style=\"color: #008080; text-decoration-color: #008080\">╭─────────────────────────────────────────────────────────────────────────────────────────────────────────────────╮</span>\n",
       "<span style=\"color: #008080; text-decoration-color: #008080\">│</span>                                                                                                                 <span style=\"color: #008080; text-decoration-color: #008080\">│</span>\n",
       "<span style=\"color: #008080; text-decoration-color: #008080\">│</span>  .----------------.  .----------------.  .-----------------. .----------------.  .----------------.             <span style=\"color: #008080; text-decoration-color: #008080\">│</span>\n",
       "<span style=\"color: #008080; text-decoration-color: #008080\">│</span> .----------------.  .----------------.  .----------------.  .----------------.  .----------------.              <span style=\"color: #008080; text-decoration-color: #008080\">│</span>\n",
       "<span style=\"color: #008080; text-decoration-color: #008080\">│</span> | .--------------. || .--------------. || .--------------. || .--------------. || .--------------. |            <span style=\"color: #008080; text-decoration-color: #008080\">│</span>\n",
       "<span style=\"color: #008080; text-decoration-color: #008080\">│</span> | .--------------. || .--------------. || .--------------. || .--------------. || .--------------. |            <span style=\"color: #008080; text-decoration-color: #008080\">│</span>\n",
       "<span style=\"color: #008080; text-decoration-color: #008080\">│</span> | |  _________   | || |     ____     | || | ____  _____  | || |  _________   | || |              | |            <span style=\"color: #008080; text-decoration-color: #008080\">│</span>\n",
       "<span style=\"color: #008080; text-decoration-color: #008080\">│</span> | |   ______     | || |   _____      | || |     ____     | || |     ______   | || |  ___  ____   | |            <span style=\"color: #008080; text-decoration-color: #008080\">│</span>\n",
       "<span style=\"color: #008080; text-decoration-color: #008080\">│</span> | | |_   ___  |  | || |   .'    `.   | || ||_   \\|_   _| | || | |  _   _  |  | || |      _       | |            <span style=\"color: #008080; text-decoration-color: #008080\">│</span>\n",
       "<span style=\"color: #008080; text-decoration-color: #008080\">│</span> | |  |_   _ \\    | || |  |_   _|     | || |   .'    `.   | || |   .' ___  |  | || | |_  ||_  _|  | |            <span style=\"color: #008080; text-decoration-color: #008080\">│</span>\n",
       "<span style=\"color: #008080; text-decoration-color: #008080\">│</span> | |   | |_  \\_|  | || |  /  .--.  \\  | || |  |   \\ | |   | || | |_/ | | \\_|  | || |     (_)      | |            <span style=\"color: #008080; text-decoration-color: #008080\">│</span>\n",
       "<span style=\"color: #008080; text-decoration-color: #008080\">│</span> | |    | |_) |   | || |    | |       | || |  /  .--.  \\  | || |  / .'   \\_|  | || |   | |_/ /    | |            <span style=\"color: #008080; text-decoration-color: #008080\">│</span>\n",
       "<span style=\"color: #008080; text-decoration-color: #008080\">│</span> | |   |  _|      | || |  | |    | |  | || |  | |\\ \\| |   | || |     | |      | || |      _       | |            <span style=\"color: #008080; text-decoration-color: #008080\">│</span>\n",
       "<span style=\"color: #008080; text-decoration-color: #008080\">│</span> | |    |  __'.   | || |    | |   _   | || |  | |    | |  | || |  | |         | || |   |  __'.    | |            <span style=\"color: #008080; text-decoration-color: #008080\">│</span>\n",
       "<span style=\"color: #008080; text-decoration-color: #008080\">│</span> | |  _| |_       | || |  \\  `--'  /  | || | _| |_\\   |_  | || |    _| |_     | || |     (_)      | |            <span style=\"color: #008080; text-decoration-color: #008080\">│</span>\n",
       "<span style=\"color: #008080; text-decoration-color: #008080\">│</span> | |   _| |__) |  | || |   _| |__/ |  | || |  \\  `--'  /  | || |  \\ `.___.'\\  | || |  _| |  \\ \\_  | |            <span style=\"color: #008080; text-decoration-color: #008080\">│</span>\n",
       "<span style=\"color: #008080; text-decoration-color: #008080\">│</span> | | |_____|      | || |   `.____.'   | || ||_____|\\____| | || |   |_____|    | || |              | |            <span style=\"color: #008080; text-decoration-color: #008080\">│</span>\n",
       "<span style=\"color: #008080; text-decoration-color: #008080\">│</span> | |  |_______/   | || |  |________|  | || |   `.____.'   | || |   `._____.'  | || | |____||____| | |            <span style=\"color: #008080; text-decoration-color: #008080\">│</span>\n",
       "<span style=\"color: #008080; text-decoration-color: #008080\">│</span> | |              | || |              | || |              | || |              | || |              | |            <span style=\"color: #008080; text-decoration-color: #008080\">│</span>\n",
       "<span style=\"color: #008080; text-decoration-color: #008080\">│</span> | |              | || |              | || |              | || |              | || |              | |            <span style=\"color: #008080; text-decoration-color: #008080\">│</span>\n",
       "<span style=\"color: #008080; text-decoration-color: #008080\">│</span> | '--------------' || '--------------' || '--------------' || '--------------' || '--------------' |            <span style=\"color: #008080; text-decoration-color: #008080\">│</span>\n",
       "<span style=\"color: #008080; text-decoration-color: #008080\">│</span> | '--------------' || '--------------' || '--------------' || '--------------' || '--------------' |            <span style=\"color: #008080; text-decoration-color: #008080\">│</span>\n",
       "<span style=\"color: #008080; text-decoration-color: #008080\">│</span>  '----------------'  '----------------'  '----------------'  '----------------'  '----------------'             <span style=\"color: #008080; text-decoration-color: #008080\">│</span>\n",
       "<span style=\"color: #008080; text-decoration-color: #008080\">│</span> '----------------'  '----------------'  '----------------'  '----------------'  '----------------'              <span style=\"color: #008080; text-decoration-color: #008080\">│</span>\n",
       "<span style=\"color: #008080; text-decoration-color: #008080\">│</span>                                                                                                                 <span style=\"color: #008080; text-decoration-color: #008080\">│</span>\n",
       "<span style=\"color: #008080; text-decoration-color: #008080\">╰─────────────────────────────────────────────────────────────────────────────────────────────────────────────────╯</span>\n",
       "</pre>\n"
      ],
      "text/plain": [
       "\u001b[36m╭─────────────────────────────────────────────────────────────────────────────────────────────────────────────────╮\u001b[0m\n",
       "\u001b[36m│\u001b[0m                                                                                                                 \u001b[36m│\u001b[0m\n",
       "\u001b[36m│\u001b[0m  .----------------.  .----------------.  .-----------------. .----------------.  .----------------.             \u001b[36m│\u001b[0m\n",
       "\u001b[36m│\u001b[0m .----------------.  .----------------.  .----------------.  .----------------.  .----------------.              \u001b[36m│\u001b[0m\n",
       "\u001b[36m│\u001b[0m | .--------------. || .--------------. || .--------------. || .--------------. || .--------------. |            \u001b[36m│\u001b[0m\n",
       "\u001b[36m│\u001b[0m | .--------------. || .--------------. || .--------------. || .--------------. || .--------------. |            \u001b[36m│\u001b[0m\n",
       "\u001b[36m│\u001b[0m | |  _________   | || |     ____     | || | ____  _____  | || |  _________   | || |              | |            \u001b[36m│\u001b[0m\n",
       "\u001b[36m│\u001b[0m | |   ______     | || |   _____      | || |     ____     | || |     ______   | || |  ___  ____   | |            \u001b[36m│\u001b[0m\n",
       "\u001b[36m│\u001b[0m | | |_   ___  |  | || |   .'    `.   | || ||_   \\|_   _| | || | |  _   _  |  | || |      _       | |            \u001b[36m│\u001b[0m\n",
       "\u001b[36m│\u001b[0m | |  |_   _ \\    | || |  |_   _|     | || |   .'    `.   | || |   .' ___  |  | || | |_  ||_  _|  | |            \u001b[36m│\u001b[0m\n",
       "\u001b[36m│\u001b[0m | |   | |_  \\_|  | || |  /  .--.  \\  | || |  |   \\ | |   | || | |_/ | | \\_|  | || |     (_)      | |            \u001b[36m│\u001b[0m\n",
       "\u001b[36m│\u001b[0m | |    | |_) |   | || |    | |       | || |  /  .--.  \\  | || |  / .'   \\_|  | || |   | |_/ /    | |            \u001b[36m│\u001b[0m\n",
       "\u001b[36m│\u001b[0m | |   |  _|      | || |  | |    | |  | || |  | |\\ \\| |   | || |     | |      | || |      _       | |            \u001b[36m│\u001b[0m\n",
       "\u001b[36m│\u001b[0m | |    |  __'.   | || |    | |   _   | || |  | |    | |  | || |  | |         | || |   |  __'.    | |            \u001b[36m│\u001b[0m\n",
       "\u001b[36m│\u001b[0m | |  _| |_       | || |  \\  `--'  /  | || | _| |_\\   |_  | || |    _| |_     | || |     (_)      | |            \u001b[36m│\u001b[0m\n",
       "\u001b[36m│\u001b[0m | |   _| |__) |  | || |   _| |__/ |  | || |  \\  `--'  /  | || |  \\ `.___.'\\  | || |  _| |  \\ \\_  | |            \u001b[36m│\u001b[0m\n",
       "\u001b[36m│\u001b[0m | | |_____|      | || |   `.____.'   | || ||_____|\\____| | || |   |_____|    | || |              | |            \u001b[36m│\u001b[0m\n",
       "\u001b[36m│\u001b[0m | |  |_______/   | || |  |________|  | || |   `.____.'   | || |   `._____.'  | || | |____||____| | |            \u001b[36m│\u001b[0m\n",
       "\u001b[36m│\u001b[0m | |              | || |              | || |              | || |              | || |              | |            \u001b[36m│\u001b[0m\n",
       "\u001b[36m│\u001b[0m | |              | || |              | || |              | || |              | || |              | |            \u001b[36m│\u001b[0m\n",
       "\u001b[36m│\u001b[0m | '--------------' || '--------------' || '--------------' || '--------------' || '--------------' |            \u001b[36m│\u001b[0m\n",
       "\u001b[36m│\u001b[0m | '--------------' || '--------------' || '--------------' || '--------------' || '--------------' |            \u001b[36m│\u001b[0m\n",
       "\u001b[36m│\u001b[0m  '----------------'  '----------------'  '----------------'  '----------------'  '----------------'             \u001b[36m│\u001b[0m\n",
       "\u001b[36m│\u001b[0m '----------------'  '----------------'  '----------------'  '----------------'  '----------------'              \u001b[36m│\u001b[0m\n",
       "\u001b[36m│\u001b[0m                                                                                                                 \u001b[36m│\u001b[0m\n",
       "\u001b[36m╰─────────────────────────────────────────────────────────────────────────────────────────────────────────────────╯\u001b[0m\n"
      ]
     },
     "metadata": {},
     "output_type": "display_data"
    },
    {
     "name": "stderr",
     "output_type": "stream",
     "text": [
      "\u001b[32m2025-04-19 17:36:36\u001b[0m | \u001b[33m\u001b[1mWARNING 137376\u001b[0m | \u001b[36mlogger_test\u001b[0m:\u001b[36mprint_ascii_header\u001b[0m:\u001b[36m53\u001b[0m - \u001b[33m\u001b[1mASCII art only supports ASCII characters. Text 'ASCII and café mix' contains non-ASCII characters.\u001b[0m\n",
      "\u001b[32m2025-04-19 17:36:36\u001b[0m | \u001b[33m\u001b[1mWARNING 137376\u001b[0m | \u001b[36mlogger_test\u001b[0m:\u001b[36mprint_ascii_header\u001b[0m:\u001b[36m55\u001b[0m - \u001b[33m\u001b[1mNon-ASCII characters removed. Using: 'ASCII and caf mix'\u001b[0m\n"
     ]
    },
    {
     "data": {
      "text/html": [
       "<pre style=\"white-space:pre;overflow-x:auto;line-height:normal;font-family:Menlo,'DejaVu Sans Mono',consolas,'Courier New',monospace\"><span style=\"color: #800080; text-decoration-color: #800080\">╭─────────────────────────────────────────────────────────────────────────────────────────────────────────────────╮</span>\n",
       "<span style=\"color: #800080; text-decoration-color: #800080\">│</span>     _     ____    ____  ___  ___                     _                 __              _                        <span style=\"color: #800080; text-decoration-color: #800080\">│</span>\n",
       "<span style=\"color: #800080; text-decoration-color: #800080\">│</span>    / \\   / ___|  / ___||_ _||_ _|   __ _  _ __    __| |   ___   __ _  / _|  _ __ ___  (_)__  __                 <span style=\"color: #800080; text-decoration-color: #800080\">│</span>\n",
       "<span style=\"color: #800080; text-decoration-color: #800080\">│</span>   / _ \\  \\___ \\ | |     | |  | |   / _` || '_ \\  / _` |  / __| / _` || |_  | '_ ` _ \\ | |\\ \\/ /                 <span style=\"color: #800080; text-decoration-color: #800080\">│</span>\n",
       "<span style=\"color: #800080; text-decoration-color: #800080\">│</span>  / ___ \\  ___) || |___  | |  | |  | (_| || | | || (_| | | (__ | (_| ||  _| | | | | | || | &gt;  &lt;                  <span style=\"color: #800080; text-decoration-color: #800080\">│</span>\n",
       "<span style=\"color: #800080; text-decoration-color: #800080\">│</span> /_/   \\_\\|____/  \\____||___||___|  \\__,_||_| |_| \\__,_|  \\___| \\__,_||_|   |_| |_| |_||_|/_/\\_\\                 <span style=\"color: #800080; text-decoration-color: #800080\">│</span>\n",
       "<span style=\"color: #800080; text-decoration-color: #800080\">│</span>                                                                                                                 <span style=\"color: #800080; text-decoration-color: #800080\">│</span>\n",
       "<span style=\"color: #800080; text-decoration-color: #800080\">│</span>                                                                                                                 <span style=\"color: #800080; text-decoration-color: #800080\">│</span>\n",
       "<span style=\"color: #800080; text-decoration-color: #800080\">╰─────────────────────────────────────────────────────────────────────────────────────────────────────────────────╯</span>\n",
       "</pre>\n"
      ],
      "text/plain": [
       "\u001b[35m╭─────────────────────────────────────────────────────────────────────────────────────────────────────────────────╮\u001b[0m\n",
       "\u001b[35m│\u001b[0m     _     ____    ____  ___  ___                     _                 __              _                        \u001b[35m│\u001b[0m\n",
       "\u001b[35m│\u001b[0m    / \\   / ___|  / ___||_ _||_ _|   __ _  _ __    __| |   ___   __ _  / _|  _ __ ___  (_)__  __                 \u001b[35m│\u001b[0m\n",
       "\u001b[35m│\u001b[0m   / _ \\  \\___ \\ | |     | |  | |   / _` || '_ \\  / _` |  / __| / _` || |_  | '_ ` _ \\ | |\\ \\/ /                 \u001b[35m│\u001b[0m\n",
       "\u001b[35m│\u001b[0m  / ___ \\  ___) || |___  | |  | |  | (_| || | | || (_| | | (__ | (_| ||  _| | | | | | || | >  <                  \u001b[35m│\u001b[0m\n",
       "\u001b[35m│\u001b[0m /_/   \\_\\|____/  \\____||___||___|  \\__,_||_| |_| \\__,_|  \\___| \\__,_||_|   |_| |_| |_||_|/_/\\_\\                 \u001b[35m│\u001b[0m\n",
       "\u001b[35m│\u001b[0m                                                                                                                 \u001b[35m│\u001b[0m\n",
       "\u001b[35m│\u001b[0m                                                                                                                 \u001b[35m│\u001b[0m\n",
       "\u001b[35m╰─────────────────────────────────────────────────────────────────────────────────────────────────────────────────╯\u001b[0m\n"
      ]
     },
     "metadata": {},
     "output_type": "display_data"
    },
    {
     "name": "stderr",
     "output_type": "stream",
     "text": [
      "\u001b[32m2025-04-19 17:36:36\u001b[0m | \u001b[32m\u001b[1mSUCCESS 137376\u001b[0m | \u001b[36mlogger_test\u001b[0m:\u001b[36mprint_ascii_block\u001b[0m:\u001b[36m130\u001b[0m - \u001b[32m\u001b[1mCustomBlock\u001b[0m\n"
     ]
    },
    {
     "data": {
      "text/html": [
       "<pre style=\"white-space:pre;overflow-x:auto;line-height:normal;font-family:Menlo,'DejaVu Sans Mono',consolas,'Courier New',monospace\"><span style=\"color: #008000; text-decoration-color: #008000\">╭─ System Diagnostics Report ─────────────────────────────────────────────────────────────────────────────────────╮</span>\n",
       "<span style=\"color: #008000; text-decoration-color: #008000\">│</span>  ___ __   __ ___  _____  ___  __  __    ___   _  __                                                             <span style=\"color: #008000; text-decoration-color: #008000\">│</span>\n",
       "<span style=\"color: #008000; text-decoration-color: #008000\">│</span> / __|\\ \\ / // __||_   _|| __||  \\/  |  / _ \\ | |/ /                                                             <span style=\"color: #008000; text-decoration-color: #008000\">│</span>\n",
       "<span style=\"color: #008000; text-decoration-color: #008000\">│</span> \\__ \\ \\ V / \\__ \\  | |  | _| | |\\/| | | (_) || ' &lt;                                                              <span style=\"color: #008000; text-decoration-color: #008000\">│</span>\n",
       "<span style=\"color: #008000; text-decoration-color: #008000\">│</span> |___/  |_|  |___/  |_|  |___||_|  |_|  \\___/ |_|\\_\\                                                             <span style=\"color: #008000; text-decoration-color: #008000\">│</span>\n",
       "<span style=\"color: #008000; text-decoration-color: #008000\">│</span>                                                                                                                 <span style=\"color: #008000; text-decoration-color: #008000\">│</span>\n",
       "<span style=\"color: #008000; text-decoration-color: #008000\">│</span>                                                                                                                 <span style=\"color: #008000; text-decoration-color: #008000\">│</span>\n",
       "<span style=\"color: #008000; text-decoration-color: #008000\">│</span> Check Time: 2025-04-19 17:36:36                                                                                 <span style=\"color: #008000; text-decoration-color: #008000\">│</span>\n",
       "<span style=\"color: #008000; text-decoration-color: #008000\">│</span> System Load: OK                                                                                                 <span style=\"color: #008000; text-decoration-color: #008000\">│</span>\n",
       "<span style=\"color: #008000; text-decoration-color: #008000\">│</span> Security Status: Good                                                                                           <span style=\"color: #008000; text-decoration-color: #008000\">│</span>\n",
       "<span style=\"color: #008000; text-decoration-color: #008000\">│</span> Recent Error Count: 0                                                                                           <span style=\"color: #008000; text-decoration-color: #008000\">│</span>\n",
       "<span style=\"color: #008000; text-decoration-color: #008000\">│</span> Uptime: 24h 12m                                                                                                 <span style=\"color: #008000; text-decoration-color: #008000\">│</span>\n",
       "<span style=\"color: #008000; text-decoration-color: #008000\">╰─────────────────────────────────────────────────────────────────────────────────────────────────────────────────╯</span>\n",
       "</pre>\n"
      ],
      "text/plain": [
       "\u001b[32m╭─\u001b[0m\u001b[32m System Diagnostics Report \u001b[0m\u001b[32m────────────────────────────────────────────────────────────────────────────────────\u001b[0m\u001b[32m─╮\u001b[0m\n",
       "\u001b[32m│\u001b[0m  ___ __   __ ___  _____  ___  __  __    ___   _  __                                                             \u001b[32m│\u001b[0m\n",
       "\u001b[32m│\u001b[0m / __|\\ \\ / // __||_   _|| __||  \\/  |  / _ \\ | |/ /                                                             \u001b[32m│\u001b[0m\n",
       "\u001b[32m│\u001b[0m \\__ \\ \\ V / \\__ \\  | |  | _| | |\\/| | | (_) || ' <                                                              \u001b[32m│\u001b[0m\n",
       "\u001b[32m│\u001b[0m |___/  |_|  |___/  |_|  |___||_|  |_|  \\___/ |_|\\_\\                                                             \u001b[32m│\u001b[0m\n",
       "\u001b[32m│\u001b[0m                                                                                                                 \u001b[32m│\u001b[0m\n",
       "\u001b[32m│\u001b[0m                                                                                                                 \u001b[32m│\u001b[0m\n",
       "\u001b[32m│\u001b[0m Check Time: 2025-04-19 17:36:36                                                                                 \u001b[32m│\u001b[0m\n",
       "\u001b[32m│\u001b[0m System Load: OK                                                                                                 \u001b[32m│\u001b[0m\n",
       "\u001b[32m│\u001b[0m Security Status: Good                                                                                           \u001b[32m│\u001b[0m\n",
       "\u001b[32m│\u001b[0m Recent Error Count: 0                                                                                           \u001b[32m│\u001b[0m\n",
       "\u001b[32m│\u001b[0m Uptime: 24h 12m                                                                                                 \u001b[32m│\u001b[0m\n",
       "\u001b[32m╰─────────────────────────────────────────────────────────────────────────────────────────────────────────────────╯\u001b[0m\n"
      ]
     },
     "metadata": {},
     "output_type": "display_data"
    },
    {
     "name": "stderr",
     "output_type": "stream",
     "text": [
      "\u001b[32m2025-04-19 17:36:36\u001b[0m | \u001b[1mINFO    137376\u001b[0m | \u001b[36mlogger_test\u001b[0m:\u001b[36mtest_ascii_logging\u001b[0m:\u001b[36m150\u001b[0m - \u001b[1mASCII art logging test completed\u001b[0m\n",
      "\u001b[32m2025-04-19 17:36:37\u001b[0m | \u001b[1mINFO    137376\u001b[0m | \u001b[36mlogger_test\u001b[0m:\u001b[36mtest_mock_application\u001b[0m:\u001b[36m157\u001b[0m - \u001b[1m=== Simulated Application Scenario ===\u001b[0m\n"
     ]
    },
    {
     "data": {
      "text/html": [
       "<pre style=\"white-space:pre;overflow-x:auto;line-height:normal;font-family:Menlo,'DejaVu Sans Mono',consolas,'Courier New',monospace\"><span style=\"color: #000080; text-decoration-color: #000080\">╭─────────────────────────────────────────────────────────────────────────────────────────────────────────────────╮</span>\n",
       "<span style=\"color: #000080; text-decoration-color: #000080\">│</span>     ___     ____     ____           _____  ______    ___     ____   ______   __  __    ____                     <span style=\"color: #000080; text-decoration-color: #000080\">│</span>\n",
       "<span style=\"color: #000080; text-decoration-color: #000080\">│</span>    /   |   / __ \\   / __ \\         / ___/ /_  __/   /   |   / __ \\ /_  __/  / / / /   / __ \\                    <span style=\"color: #000080; text-decoration-color: #000080\">│</span>\n",
       "<span style=\"color: #000080; text-decoration-color: #000080\">│</span>   / /| |  / /_/ /  / /_/ /         \\__ \\   / /     / /| |  / /_/ /  / /    / / / /   / /_/ /                    <span style=\"color: #000080; text-decoration-color: #000080\">│</span>\n",
       "<span style=\"color: #000080; text-decoration-color: #000080\">│</span>  / ___ | / ____/  / ____/         ___/ /  / /     / ___ | / _, _/  / /    / /_/ /   / ____/                     <span style=\"color: #000080; text-decoration-color: #000080\">│</span>\n",
       "<span style=\"color: #000080; text-decoration-color: #000080\">│</span> /_/  |_|/_/      /_/             /____/  /_/     /_/  |_|/_/ |_|  /_/     \\____/   /_/                          <span style=\"color: #000080; text-decoration-color: #000080\">│</span>\n",
       "<span style=\"color: #000080; text-decoration-color: #000080\">│</span>                                                                                                                 <span style=\"color: #000080; text-decoration-color: #000080\">│</span>\n",
       "<span style=\"color: #000080; text-decoration-color: #000080\">│</span>                                                                                                                 <span style=\"color: #000080; text-decoration-color: #000080\">│</span>\n",
       "<span style=\"color: #000080; text-decoration-color: #000080\">╰─────────────────────────────────────────────────────────────────────────────────────────────────────────────────╯</span>\n",
       "</pre>\n"
      ],
      "text/plain": [
       "\u001b[34m╭─────────────────────────────────────────────────────────────────────────────────────────────────────────────────╮\u001b[0m\n",
       "\u001b[34m│\u001b[0m     ___     ____     ____           _____  ______    ___     ____   ______   __  __    ____                     \u001b[34m│\u001b[0m\n",
       "\u001b[34m│\u001b[0m    /   |   / __ \\   / __ \\         / ___/ /_  __/   /   |   / __ \\ /_  __/  / / / /   / __ \\                    \u001b[34m│\u001b[0m\n",
       "\u001b[34m│\u001b[0m   / /| |  / /_/ /  / /_/ /         \\__ \\   / /     / /| |  / /_/ /  / /    / / / /   / /_/ /                    \u001b[34m│\u001b[0m\n",
       "\u001b[34m│\u001b[0m  / ___ | / ____/  / ____/         ___/ /  / /     / ___ | / _, _/  / /    / /_/ /   / ____/                     \u001b[34m│\u001b[0m\n",
       "\u001b[34m│\u001b[0m /_/  |_|/_/      /_/             /____/  /_/     /_/  |_|/_/ |_|  /_/     \\____/   /_/                          \u001b[34m│\u001b[0m\n",
       "\u001b[34m│\u001b[0m                                                                                                                 \u001b[34m│\u001b[0m\n",
       "\u001b[34m│\u001b[0m                                                                                                                 \u001b[34m│\u001b[0m\n",
       "\u001b[34m╰─────────────────────────────────────────────────────────────────────────────────────────────────────────────────╯\u001b[0m\n"
      ]
     },
     "metadata": {},
     "output_type": "display_data"
    },
    {
     "name": "stderr",
     "output_type": "stream",
     "text": [
      "\u001b[32m2025-04-19 17:36:37\u001b[0m | \u001b[1mINFO    137376\u001b[0m | \u001b[36mlogger_test\u001b[0m:\u001b[36mtest_mock_application\u001b[0m:\u001b[36m167\u001b[0m - \u001b[1mLoading configuration...\u001b[0m\n",
      "\u001b[32m2025-04-19 17:36:38\u001b[0m | \u001b[32m\u001b[1mSUCCESS 137376\u001b[0m | \u001b[36mlogger_test\u001b[0m:\u001b[36mtest_mock_application\u001b[0m:\u001b[36m169\u001b[0m - \u001b[32m\u001b[1mConfiguration loaded successfully\u001b[0m\n",
      "\u001b[32m2025-04-19 17:36:38\u001b[0m | \u001b[1mINFO    137376\u001b[0m | \u001b[36mlogger_test\u001b[0m:\u001b[36mtest_mock_application\u001b[0m:\u001b[36m171\u001b[0m - \u001b[1mCustomBlock\u001b[0m\n"
     ]
    },
    {
     "data": {
      "text/html": [
       "<pre style=\"white-space:pre;overflow-x:auto;line-height:normal;font-family:Menlo,'DejaVu Sans Mono',consolas,'Courier New',monospace\"><span style=\"color: #008080; text-decoration-color: #008080\">╭─ Application Configuration Summary ─────────────────────────────────────────────────────────────────────────────╮</span>\n",
       "<span style=\"color: #008080; text-decoration-color: #008080\">│</span> Application Name: Logging System Test                                                                           <span style=\"color: #008080; text-decoration-color: #008080\">│</span>\n",
       "<span style=\"color: #008080; text-decoration-color: #008080\">│</span> Version: 1.0.0                                                                                                  <span style=\"color: #008080; text-decoration-color: #008080\">│</span>\n",
       "<span style=\"color: #008080; text-decoration-color: #008080\">│</span> Environment: Development                                                                                        <span style=\"color: #008080; text-decoration-color: #008080\">│</span>\n",
       "<span style=\"color: #008080; text-decoration-color: #008080\">│</span> Log Level: DEBUG                                                                                                <span style=\"color: #008080; text-decoration-color: #008080\">│</span>\n",
       "<span style=\"color: #008080; text-decoration-color: #008080\">│</span> Max Log File Size: 20MB                                                                                         <span style=\"color: #008080; text-decoration-color: #008080\">│</span>\n",
       "<span style=\"color: #008080; text-decoration-color: #008080\">╰─────────────────────────────────────────────────────────────────────────────────────────────────────────────────╯</span>\n",
       "</pre>\n"
      ],
      "text/plain": [
       "\u001b[36m╭─\u001b[0m\u001b[36m Application Configuration Summary \u001b[0m\u001b[36m────────────────────────────────────────────────────────────────────────────\u001b[0m\u001b[36m─╮\u001b[0m\n",
       "\u001b[36m│\u001b[0m Application Name: Logging System Test                                                                           \u001b[36m│\u001b[0m\n",
       "\u001b[36m│\u001b[0m Version: 1.0.0                                                                                                  \u001b[36m│\u001b[0m\n",
       "\u001b[36m│\u001b[0m Environment: Development                                                                                        \u001b[36m│\u001b[0m\n",
       "\u001b[36m│\u001b[0m Log Level: DEBUG                                                                                                \u001b[36m│\u001b[0m\n",
       "\u001b[36m│\u001b[0m Max Log File Size: 20MB                                                                                         \u001b[36m│\u001b[0m\n",
       "\u001b[36m╰─────────────────────────────────────────────────────────────────────────────────────────────────────────────────╯\u001b[0m\n"
      ]
     },
     "metadata": {},
     "output_type": "display_data"
    },
    {
     "name": "stderr",
     "output_type": "stream",
     "text": [
      "\u001b[32m2025-04-19 17:36:38\u001b[0m | \u001b[1mINFO    137376\u001b[0m | \u001b[36mlogger_test\u001b[0m:\u001b[36mtest_mock_application\u001b[0m:\u001b[36m184\u001b[0m - \u001b[1mConnecting to the database...\u001b[0m\n",
      "\u001b[32m2025-04-19 17:36:39\u001b[0m | \u001b[32m\u001b[1mSUCCESS 137376\u001b[0m | \u001b[36mlogger_test\u001b[0m:\u001b[36mtest_mock_application\u001b[0m:\u001b[36m205\u001b[0m - \u001b[32m\u001b[1mDatabase connected successfully\u001b[0m\n",
      "\u001b[32m2025-04-19 17:36:39\u001b[0m | \u001b[1mINFO    137376\u001b[0m | \u001b[36mlogger_test\u001b[0m:\u001b[36mtest_mock_application\u001b[0m:\u001b[36m207\u001b[0m - \u001b[1mInitializing services...\u001b[0m\n",
      "\u001b[32m2025-04-19 17:36:40\u001b[0m | \u001b[32m\u001b[1mSUCCESS 137376\u001b[0m | \u001b[36mlogger_test\u001b[0m:\u001b[36mtest_mock_application\u001b[0m:\u001b[36m209\u001b[0m - \u001b[32m\u001b[1mServices initialized successfully\u001b[0m\n",
      "\u001b[32m2025-04-19 17:36:40\u001b[0m | \u001b[32m\u001b[1mSUCCESS 137376\u001b[0m | \u001b[36mlogger_test\u001b[0m:\u001b[36mprint_ascii_block\u001b[0m:\u001b[36m130\u001b[0m - \u001b[32m\u001b[1mCustomBlock\u001b[0m\n"
     ]
    },
    {
     "data": {
      "text/html": [
       "<pre style=\"white-space:pre;overflow-x:auto;line-height:normal;font-family:Menlo,'DejaVu Sans Mono',consolas,'Courier New',monospace\"><span style=\"color: #008000; text-decoration-color: #008000\">╭─ System Ready ──────────────────────────────────────────────────────────────────────────────────────────────────╮</span>\n",
       "<span style=\"color: #008000; text-decoration-color: #008000\">│</span>                                                                                                                 <span style=\"color: #008000; text-decoration-color: #008000\">│</span>\n",
       "<span style=\"color: #008000; text-decoration-color: #008000\">│</span>  .----------------.  .----------------.  .----------------.  .----------------.  .----------------.             <span style=\"color: #008000; text-decoration-color: #008000\">│</span>\n",
       "<span style=\"color: #008000; text-decoration-color: #008000\">│</span> | .--------------. || .--------------. || .--------------. || .--------------. || .--------------. |            <span style=\"color: #008000; text-decoration-color: #008000\">│</span>\n",
       "<span style=\"color: #008000; text-decoration-color: #008000\">│</span> | |  _______     | || |  _________   | || |      __      | || |  ________    | || |  ____  ____  | |            <span style=\"color: #008000; text-decoration-color: #008000\">│</span>\n",
       "<span style=\"color: #008000; text-decoration-color: #008000\">│</span> | | |_   __ \\    | || | |_   ___  |  | || |     /  \\     | || | |_   ___ `.  | || | |_  _||_  _| | |            <span style=\"color: #008000; text-decoration-color: #008000\">│</span>\n",
       "<span style=\"color: #008000; text-decoration-color: #008000\">│</span> | |   | |__) |   | || |   | |_  \\_|  | || |    / /\\ \\    | || |   | |   `. \\ | || |   \\ \\  / /   | |            <span style=\"color: #008000; text-decoration-color: #008000\">│</span>\n",
       "<span style=\"color: #008000; text-decoration-color: #008000\">│</span> | |   |  __ /    | || |   |  _|  _   | || |   / ____ \\   | || |   | |    | | | || |    \\ \\/ /    | |            <span style=\"color: #008000; text-decoration-color: #008000\">│</span>\n",
       "<span style=\"color: #008000; text-decoration-color: #008000\">│</span> | |  _| |  \\ \\_  | || |  _| |___/ |  | || | _/ /    \\ \\_ | || |  _| |___.' / | || |    _|  |_    | |            <span style=\"color: #008000; text-decoration-color: #008000\">│</span>\n",
       "<span style=\"color: #008000; text-decoration-color: #008000\">│</span> | | |____| |___| | || | |_________|  | || ||____|  |____|| || | |________.'  | || |   |______|   | |            <span style=\"color: #008000; text-decoration-color: #008000\">│</span>\n",
       "<span style=\"color: #008000; text-decoration-color: #008000\">│</span> | |              | || |              | || |              | || |              | || |              | |            <span style=\"color: #008000; text-decoration-color: #008000\">│</span>\n",
       "<span style=\"color: #008000; text-decoration-color: #008000\">│</span> | '--------------' || '--------------' || '--------------' || '--------------' || '--------------' |            <span style=\"color: #008000; text-decoration-color: #008000\">│</span>\n",
       "<span style=\"color: #008000; text-decoration-color: #008000\">│</span>  '----------------'  '----------------'  '----------------'  '----------------'  '----------------'             <span style=\"color: #008000; text-decoration-color: #008000\">│</span>\n",
       "<span style=\"color: #008000; text-decoration-color: #008000\">│</span>                                                                                                                 <span style=\"color: #008000; text-decoration-color: #008000\">│</span>\n",
       "<span style=\"color: #008000; text-decoration-color: #008000\">│</span> Start Time: 2025-04-19 17:36:40                                                                                 <span style=\"color: #008000; text-decoration-color: #008000\">│</span>\n",
       "<span style=\"color: #008000; text-decoration-color: #008000\">│</span> Registered Modules: User Management, Authorization Center, Data Processing, Report Generation                   <span style=\"color: #008000; text-decoration-color: #008000\">│</span>\n",
       "<span style=\"color: #008000; text-decoration-color: #008000\">│</span> System Status: Running                                                                                          <span style=\"color: #008000; text-decoration-color: #008000\">│</span>\n",
       "<span style=\"color: #008000; text-decoration-color: #008000\">│</span> Listening Port: 8080                                                                                            <span style=\"color: #008000; text-decoration-color: #008000\">│</span>\n",
       "<span style=\"color: #008000; text-decoration-color: #008000\">│</span> API Version: v2                                                                                                 <span style=\"color: #008000; text-decoration-color: #008000\">│</span>\n",
       "<span style=\"color: #008000; text-decoration-color: #008000\">╰─────────────────────────────────────────────────────────────────────────────────────────────────────────────────╯</span>\n",
       "</pre>\n"
      ],
      "text/plain": [
       "\u001b[32m╭─\u001b[0m\u001b[32m System Ready \u001b[0m\u001b[32m─────────────────────────────────────────────────────────────────────────────────────────────────\u001b[0m\u001b[32m─╮\u001b[0m\n",
       "\u001b[32m│\u001b[0m                                                                                                                 \u001b[32m│\u001b[0m\n",
       "\u001b[32m│\u001b[0m  .----------------.  .----------------.  .----------------.  .----------------.  .----------------.             \u001b[32m│\u001b[0m\n",
       "\u001b[32m│\u001b[0m | .--------------. || .--------------. || .--------------. || .--------------. || .--------------. |            \u001b[32m│\u001b[0m\n",
       "\u001b[32m│\u001b[0m | |  _______     | || |  _________   | || |      __      | || |  ________    | || |  ____  ____  | |            \u001b[32m│\u001b[0m\n",
       "\u001b[32m│\u001b[0m | | |_   __ \\    | || | |_   ___  |  | || |     /  \\     | || | |_   ___ `.  | || | |_  _||_  _| | |            \u001b[32m│\u001b[0m\n",
       "\u001b[32m│\u001b[0m | |   | |__) |   | || |   | |_  \\_|  | || |    / /\\ \\    | || |   | |   `. \\ | || |   \\ \\  / /   | |            \u001b[32m│\u001b[0m\n",
       "\u001b[32m│\u001b[0m | |   |  __ /    | || |   |  _|  _   | || |   / ____ \\   | || |   | |    | | | || |    \\ \\/ /    | |            \u001b[32m│\u001b[0m\n",
       "\u001b[32m│\u001b[0m | |  _| |  \\ \\_  | || |  _| |___/ |  | || | _/ /    \\ \\_ | || |  _| |___.' / | || |    _|  |_    | |            \u001b[32m│\u001b[0m\n",
       "\u001b[32m│\u001b[0m | | |____| |___| | || | |_________|  | || ||____|  |____|| || | |________.'  | || |   |______|   | |            \u001b[32m│\u001b[0m\n",
       "\u001b[32m│\u001b[0m | |              | || |              | || |              | || |              | || |              | |            \u001b[32m│\u001b[0m\n",
       "\u001b[32m│\u001b[0m | '--------------' || '--------------' || '--------------' || '--------------' || '--------------' |            \u001b[32m│\u001b[0m\n",
       "\u001b[32m│\u001b[0m  '----------------'  '----------------'  '----------------'  '----------------'  '----------------'             \u001b[32m│\u001b[0m\n",
       "\u001b[32m│\u001b[0m                                                                                                                 \u001b[32m│\u001b[0m\n",
       "\u001b[32m│\u001b[0m Start Time: 2025-04-19 17:36:40                                                                                 \u001b[32m│\u001b[0m\n",
       "\u001b[32m│\u001b[0m Registered Modules: User Management, Authorization Center, Data Processing, Report Generation                   \u001b[32m│\u001b[0m\n",
       "\u001b[32m│\u001b[0m System Status: Running                                                                                          \u001b[32m│\u001b[0m\n",
       "\u001b[32m│\u001b[0m Listening Port: 8080                                                                                            \u001b[32m│\u001b[0m\n",
       "\u001b[32m│\u001b[0m API Version: v2                                                                                                 \u001b[32m│\u001b[0m\n",
       "\u001b[32m╰─────────────────────────────────────────────────────────────────────────────────────────────────────────────────╯\u001b[0m\n"
      ]
     },
     "metadata": {},
     "output_type": "display_data"
    },
    {
     "name": "stderr",
     "output_type": "stream",
     "text": [
      "\u001b[32m2025-04-19 17:36:40\u001b[0m | \u001b[1mINFO    137376\u001b[0m | \u001b[36mlogger_test\u001b[0m:\u001b[36mtest_mock_application\u001b[0m:\u001b[36m228\u001b[0m - \u001b[1mReceived request #1\u001b[0m\n",
      "\u001b[32m2025-04-19 17:36:41\u001b[0m | \u001b[32m\u001b[1mSUCCESS 137376\u001b[0m | \u001b[36mlogger_test\u001b[0m:\u001b[36mtest_mock_application\u001b[0m:\u001b[36m230\u001b[0m - \u001b[32m\u001b[1mRequest #1 processed successfully\u001b[0m\n",
      "\u001b[32m2025-04-19 17:36:41\u001b[0m | \u001b[1mINFO    137376\u001b[0m | \u001b[36mlogger_test\u001b[0m:\u001b[36mtest_mock_application\u001b[0m:\u001b[36m228\u001b[0m - \u001b[1mReceived request #2\u001b[0m\n",
      "\u001b[32m2025-04-19 17:36:42\u001b[0m | \u001b[32m\u001b[1mSUCCESS 137376\u001b[0m | \u001b[36mlogger_test\u001b[0m:\u001b[36mtest_mock_application\u001b[0m:\u001b[36m230\u001b[0m - \u001b[32m\u001b[1mRequest #2 processed successfully\u001b[0m\n",
      "\u001b[32m2025-04-19 17:36:42\u001b[0m | \u001b[1mINFO    137376\u001b[0m | \u001b[36mlogger_test\u001b[0m:\u001b[36mtest_mock_application\u001b[0m:\u001b[36m228\u001b[0m - \u001b[1mReceived request #3\u001b[0m\n",
      "\u001b[32m2025-04-19 17:36:43\u001b[0m | \u001b[32m\u001b[1mSUCCESS 137376\u001b[0m | \u001b[36mlogger_test\u001b[0m:\u001b[36mtest_mock_application\u001b[0m:\u001b[36m230\u001b[0m - \u001b[32m\u001b[1mRequest #3 processed successfully\u001b[0m\n",
      "\u001b[32m2025-04-19 17:36:43\u001b[0m | \u001b[1mINFO    137376\u001b[0m | \u001b[36mlogger_test\u001b[0m:\u001b[36mtest_mock_application\u001b[0m:\u001b[36m233\u001b[0m - \u001b[1mShutting down services...\u001b[0m\n",
      "\u001b[32m2025-04-19 17:36:44\u001b[0m | \u001b[32m\u001b[1mSUCCESS 137376\u001b[0m | \u001b[36mlogger_test\u001b[0m:\u001b[36mtest_mock_application\u001b[0m:\u001b[36m235\u001b[0m - \u001b[32m\u001b[1mServices shut down safely\u001b[0m\n"
     ]
    },
    {
     "data": {
      "text/html": [
       "<pre style=\"white-space:pre;overflow-x:auto;line-height:normal;font-family:Menlo,'DejaVu Sans Mono',consolas,'Courier New',monospace\"><span style=\"color: #800080; text-decoration-color: #800080\">╭─────────────────────────────────────────────────────────────────────────────────────────────────────────────────╮</span>\n",
       "<span style=\"color: #800080; text-decoration-color: #800080\">│</span>  ____   _   _  _   _  _____  ____    ___  __        __ _   _                                                    <span style=\"color: #800080; text-decoration-color: #800080\">│</span>\n",
       "<span style=\"color: #800080; text-decoration-color: #800080\">│</span> / ___| | | | || | | ||_   _||  _ \\  / _ \\ \\ \\      / /| \\ | |                                                   <span style=\"color: #800080; text-decoration-color: #800080\">│</span>\n",
       "<span style=\"color: #800080; text-decoration-color: #800080\">│</span> \\___ \\ | |_| || | | |  | |  | | | || | | | \\ \\ /\\ / / |  \\| |                                                   <span style=\"color: #800080; text-decoration-color: #800080\">│</span>\n",
       "<span style=\"color: #800080; text-decoration-color: #800080\">│</span>  ___) ||  _  || |_| |  | |  | |_| || |_| |  \\ V  V /  | |\\  |                                                   <span style=\"color: #800080; text-decoration-color: #800080\">│</span>\n",
       "<span style=\"color: #800080; text-decoration-color: #800080\">│</span> |____/ |_| |_| \\___/   |_|  |____/  \\___/    \\_/\\_/   |_| \\_|                                                   <span style=\"color: #800080; text-decoration-color: #800080\">│</span>\n",
       "<span style=\"color: #800080; text-decoration-color: #800080\">│</span>                                                                                                                 <span style=\"color: #800080; text-decoration-color: #800080\">│</span>\n",
       "<span style=\"color: #800080; text-decoration-color: #800080\">│</span>                                                                                                                 <span style=\"color: #800080; text-decoration-color: #800080\">│</span>\n",
       "<span style=\"color: #800080; text-decoration-color: #800080\">╰─────────────────────────────────────────────────────────────────────────────────────────────────────────────────╯</span>\n",
       "</pre>\n"
      ],
      "text/plain": [
       "\u001b[35m╭─────────────────────────────────────────────────────────────────────────────────────────────────────────────────╮\u001b[0m\n",
       "\u001b[35m│\u001b[0m  ____   _   _  _   _  _____  ____    ___  __        __ _   _                                                    \u001b[35m│\u001b[0m\n",
       "\u001b[35m│\u001b[0m / ___| | | | || | | ||_   _||  _ \\  / _ \\ \\ \\      / /| \\ | |                                                   \u001b[35m│\u001b[0m\n",
       "\u001b[35m│\u001b[0m \\___ \\ | |_| || | | |  | |  | | | || | | | \\ \\ /\\ / / |  \\| |                                                   \u001b[35m│\u001b[0m\n",
       "\u001b[35m│\u001b[0m  ___) ||  _  || |_| |  | |  | |_| || |_| |  \\ V  V /  | |\\  |                                                   \u001b[35m│\u001b[0m\n",
       "\u001b[35m│\u001b[0m |____/ |_| |_| \\___/   |_|  |____/  \\___/    \\_/\\_/   |_| \\_|                                                   \u001b[35m│\u001b[0m\n",
       "\u001b[35m│\u001b[0m                                                                                                                 \u001b[35m│\u001b[0m\n",
       "\u001b[35m│\u001b[0m                                                                                                                 \u001b[35m│\u001b[0m\n",
       "\u001b[35m╰─────────────────────────────────────────────────────────────────────────────────────────────────────────────────╯\u001b[0m\n"
      ]
     },
     "metadata": {},
     "output_type": "display_data"
    },
    {
     "name": "stderr",
     "output_type": "stream",
     "text": [
      "\u001b[32m2025-04-19 17:36:44\u001b[0m | \u001b[1mINFO    137376\u001b[0m | \u001b[36mlogger_test\u001b[0m:\u001b[36mtest_mock_application\u001b[0m:\u001b[36m244\u001b[0m - \u001b[1mMock application scenario test completed\u001b[0m\n",
      "\u001b[32m2025-04-19 17:36:44\u001b[0m | \u001b[32m\u001b[1mSUCCESS 137376\u001b[0m | \u001b[36mlogger_test\u001b[0m:\u001b[36mmain_example\u001b[0m:\u001b[36m27\u001b[0m - \u001b[32m\u001b[1mAll tests completed!\u001b[0m\n"
     ]
    }
   ],
   "source": [
    "# Define the main function to run all tests\n",
    "import random\n",
    "import time\n",
    "\n",
    "\n",
    "def main_example():\n",
    "    try:\n",
    "        # First, import the logging module\n",
    "        from pretty_loguru import logger, logger_start, is_ascii_only\n",
    "        # Initialize the logging system\n",
    "        process_id = logger_start(folder=\"logger_test\")\n",
    "        logger.info(f\"Logger system initialized, process ID: {process_id}\")\n",
    "        logger.info(\"Logging system feature test example\")\n",
    "        \n",
    "        # Run each test suite\n",
    "        test_basic_logging()\n",
    "        time.sleep(1)\n",
    "        \n",
    "        test_block_logging()\n",
    "        time.sleep(1)\n",
    "        \n",
    "        test_ascii_logging()\n",
    "        time.sleep(1)\n",
    "        \n",
    "        test_mock_application()\n",
    "        \n",
    "        logger.success(\"All tests completed!\")\n",
    "    except Exception as e:\n",
    "        print(f\"Error initializing logger system: {e}\")\n",
    "        import traceback\n",
    "        traceback.print_exc()\n",
    "\n",
    "\n",
    "def test_basic_logging():\n",
    "    \"\"\"Test basic logging functionality\"\"\"\n",
    "    from pretty_loguru import logger\n",
    "    \n",
    "    logger.info(\"=== Testing Basic Logging ===\")\n",
    "    logger.debug(\"This is a debug message\")\n",
    "    logger.info(\"This is an info message\")\n",
    "    logger.success(\"This is a success message\")\n",
    "    logger.warning(\"This is a warning message\")\n",
    "    logger.error(\"This is an error message\")\n",
    "    logger.critical(\"This is a critical message\")\n",
    "    logger.info(\"Basic logging test completed\")\n",
    "\n",
    "\n",
    "def test_block_logging():\n",
    "    \"\"\"Test block logging functionality\"\"\"\n",
    "    from pretty_loguru import logger\n",
    "    \n",
    "    logger.info(\"=== Testing Block Logging ===\")\n",
    "    \n",
    "    logger.block(\n",
    "        \"System Status Summary\", \n",
    "        [\n",
    "            \"CPU Usage: 45%\",\n",
    "            \"Memory Usage: 60%\",\n",
    "            \"Disk Space: 120GB available\",\n",
    "            \"Network Connection: OK\",\n",
    "            \"Service Status: All running\"\n",
    "        ],\n",
    "        border_style=\"green\",\n",
    "        log_level=\"INFO\"\n",
    "    )\n",
    "    \n",
    "    logger.block(\n",
    "        \"Warning Messages\", \n",
    "        [\n",
    "            \"High memory usage detected\",\n",
    "            \"Current growth rate: 5% / min\",\n",
    "            \"Estimated to reach threshold in 30 minutes\",\n",
    "            \"Suggested action: check for memory leaks\"\n",
    "        ],\n",
    "        border_style=\"yellow\",\n",
    "        log_level=\"WARNING\"\n",
    "    )\n",
    "    \n",
    "    logger.info(\"Block logging test completed\")\n",
    "\n",
    "\n",
    "def test_ascii_logging():\n",
    "    \"\"\"Test ASCII art logging functionality\"\"\"\n",
    "    from pretty_loguru import logger, is_ascii_only\n",
    "    \n",
    "    logger.info(\"=== Testing ASCII Art Logging ===\")\n",
    "    \n",
    "    # Test ASCII-only check function\n",
    "    logger.info(\"Checking if text contains only ASCII characters:\")\n",
    "    test_strings = [\n",
    "        \"Hello World\",\n",
    "        \"Hello 世界\",\n",
    "        \"123-456-789\",\n",
    "        \"Special chars: ©®™\",\n",
    "        \"ASCII symbols: !@#$%^&*()\"\n",
    "    ]\n",
    "    \n",
    "    for s in test_strings:\n",
    "        result = is_ascii_only(s)\n",
    "        logger.info(f\"'{s}' only ASCII: {result}\")\n",
    "    \n",
    "    # Display a simple ASCII art header\n",
    "    logger.ascii_header(\n",
    "        \"SYSTEM START\",\n",
    "        font=\"standard\",\n",
    "        border_style=\"blue\",\n",
    "        log_level=\"INFO\"\n",
    "    )\n",
    "    \n",
    "    # Display headers in different fonts\n",
    "    fonts = [\"standard\", \"slant\", \"doom\", \"small\", \"block\"]\n",
    "    for font in fonts:\n",
    "        try:\n",
    "            logger.ascii_header(\n",
    "                f\"Font: {font}\",\n",
    "                font=font,\n",
    "                border_style=\"cyan\",\n",
    "                log_level=\"INFO\"\n",
    "            )\n",
    "        except Exception as e:\n",
    "            logger.error(f\"Failed to generate ASCII art with font '{font}': {e}\")\n",
    "    \n",
    "    # Test header containing a non-ASCII character\n",
    "    try:\n",
    "        logger.ascii_header(\n",
    "            \"ASCII and café mix\",  # contains non-ASCII é\n",
    "            font=\"standard\",\n",
    "            border_style=\"magenta\",\n",
    "            log_level=\"WARNING\"\n",
    "        )\n",
    "    except ValueError as e:\n",
    "        logger.error(f\"Expected error: {e}\")\n",
    "    \n",
    "    # Test ASCII art block\n",
    "    logger.ascii_block(\n",
    "        \"System Diagnostics Report\", \n",
    "        [\n",
    "            \"Check Time: \" + time.strftime(\"%Y-%m-%d %H:%M:%S\"),\n",
    "            \"System Load: OK\",\n",
    "            \"Security Status: Good\",\n",
    "            \"Recent Error Count: 0\",\n",
    "            \"Uptime: 24h 12m\"\n",
    "        ],\n",
    "        ascii_header=\"SYSTEM OK\",\n",
    "        ascii_font=\"small\",\n",
    "        border_style=\"green\",\n",
    "        log_level=\"SUCCESS\"\n",
    "    )\n",
    "    \n",
    "    logger.info(\"ASCII art logging test completed\")\n",
    "\n",
    "\n",
    "def test_mock_application():\n",
    "    \"\"\"Simulate a real-world application scenario\"\"\"\n",
    "    from pretty_loguru import logger\n",
    "    \n",
    "    logger.info(\"=== Simulated Application Scenario ===\")\n",
    "    \n",
    "    # Application startup\n",
    "    logger.ascii_header(\n",
    "        \"APP STARTUP\",\n",
    "        font=\"slant\",\n",
    "        border_style=\"blue\",\n",
    "        log_level=\"INFO\"\n",
    "    )\n",
    "    \n",
    "    logger.info(\"Loading configuration...\")\n",
    "    time.sleep(0.5)\n",
    "    logger.success(\"Configuration loaded successfully\")\n",
    "    \n",
    "    logger.block(\n",
    "        \"Application Configuration Summary\", \n",
    "        [\n",
    "            \"Application Name: Logging System Test\",\n",
    "            \"Version: 1.0.0\",\n",
    "            \"Environment: Development\",\n",
    "            \"Log Level: DEBUG\",\n",
    "            \"Max Log File Size: 20MB\"\n",
    "        ],\n",
    "        border_style=\"cyan\",\n",
    "        log_level=\"INFO\"\n",
    "    )\n",
    "    \n",
    "    logger.info(\"Connecting to the database...\")\n",
    "    time.sleep(1)\n",
    "    \n",
    "    # Randomly simulate an error condition\n",
    "    if random.random() < 0.3:\n",
    "        logger.error(\"Database connection failed\")\n",
    "        logger.ascii_block(\n",
    "            \"Error Report\", \n",
    "            [\n",
    "                \"Error Type: Database connection failed\",\n",
    "                \"Error Code: DB-5001\",\n",
    "                \"Reason: Unable to resolve hostname\",\n",
    "                \"Attempt Count: 3\",\n",
    "                \"Suggested Action: Check network connection and database service status\"\n",
    "            ],\n",
    "            ascii_header=\"ERROR\",\n",
    "            ascii_font=\"doom\",\n",
    "            border_style=\"red\",\n",
    "            log_level=\"ERROR\"\n",
    "        )\n",
    "    else:\n",
    "        logger.success(\"Database connected successfully\")\n",
    "        \n",
    "        logger.info(\"Initializing services...\")\n",
    "        time.sleep(1.5)\n",
    "        logger.success(\"Services initialized successfully\")\n",
    "        \n",
    "        logger.ascii_block(\n",
    "            \"System Ready\", \n",
    "            [\n",
    "                \"Start Time: \" + time.strftime(\"%Y-%m-%d %H:%M:%S\"),\n",
    "                \"Registered Modules: User Management, Authorization Center, Data Processing, Report Generation\",\n",
    "                \"System Status: Running\",\n",
    "                \"Listening Port: 8080\",\n",
    "                \"API Version: v2\"\n",
    "            ],\n",
    "            ascii_header=\"READY\",\n",
    "            ascii_font=\"block\",\n",
    "            border_style=\"green\",\n",
    "            log_level=\"SUCCESS\"\n",
    "        )\n",
    "        \n",
    "        # Simulate handling requests\n",
    "        for i in range(3):\n",
    "            logger.info(f\"Received request #{i+1}\")\n",
    "            time.sleep(0.8)\n",
    "            logger.success(f\"Request #{i+1} processed successfully\")\n",
    "    \n",
    "    # Application shutdown\n",
    "    logger.info(\"Shutting down services...\")\n",
    "    time.sleep(1)\n",
    "    logger.success(\"Services shut down safely\")\n",
    "    \n",
    "    logger.ascii_header(\n",
    "        \"SHUTDOWN\",\n",
    "        font=\"standard\",\n",
    "        border_style=\"magenta\",\n",
    "        log_level=\"INFO\"\n",
    "    )\n",
    "    \n",
    "    logger.info(\"Mock application scenario test completed\")\n",
    "\n",
    "\n",
    "if __name__ == \"__main__\":\n",
    "    main_example()\n"
   ]
  },
  {
   "cell_type": "code",
   "execution_count": null,
   "metadata": {},
   "outputs": [],
   "source": []
  }
 ],
 "metadata": {
  "kernelspec": {
   "display_name": "tcm-agent",
   "language": "python",
   "name": "python3"
  },
  "language_info": {
   "codemirror_mode": {
    "name": "ipython",
    "version": 3
   },
   "file_extension": ".py",
   "mimetype": "text/x-python",
   "name": "python",
   "nbconvert_exporter": "python",
   "pygments_lexer": "ipython3",
   "version": "3.11.9"
  }
 },
 "nbformat": 4,
 "nbformat_minor": 2
}
